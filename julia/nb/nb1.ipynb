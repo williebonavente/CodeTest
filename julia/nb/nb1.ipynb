{
 "cells": [
  {
   "cell_type": "markdown",
   "metadata": {},
   "source": [
    "# Julia Programming in Jupyter Notebook!"
   ]
  },
  {
   "cell_type": "code",
   "execution_count": 4,
   "metadata": {},
   "outputs": [
    {
     "name": "stdout",
     "output_type": "stream",
     "text": [
      "Hello"
     ]
    }
   ],
   "source": [
    "print(\"Hello\")"
   ]
  },
  {
   "cell_type": "code",
   "execution_count": 2,
   "metadata": {},
   "outputs": [
    {
     "data": {
      "text/plain": [
       "mandelbrot (generic function with 1 method)"
      ]
     },
     "metadata": {},
     "output_type": "display_data"
    }
   ],
   "source": [
    "function mandelbrot(a)\n",
    "    z = 0\n",
    "    for i=1:50\n",
    "        z = z^2 + a\n",
    "    end\n",
    "    return z\n",
    "end"
   ]
  },
  {
   "cell_type": "code",
   "execution_count": 3,
   "metadata": {},
   "outputs": [
    {
     "name": "stdout",
     "output_type": "stream",
     "text": [
      "                                                                                \n",
      "                                                                                \n",
      "                                                                                \n",
      "                                                           **                   \n",
      "                                                         ******                 \n",
      "                                                       ********                 \n",
      "                                                         ******                 \n",
      "                                                      ******** **   *           \n",
      "                                              ***   *****************           \n",
      "                                              ************************  ***     \n",
      "                                              ****************************      \n",
      "                                           ******************************       \n",
      "                                            ******************************      \n",
      "                                         ************************************   \n",
      "                                *         **********************************    \n",
      "                           ** ***** *     **********************************    \n",
      "     "
     ]
    },
    {
     "name": "stdout",
     "output_type": "stream",
     "text": [
      "                      ***********   ************************************   \n",
      "                         ************** ************************************    \n",
      "                         ***************************************************    \n",
      "                     *****************************************************      \n",
      " ***********************************************************************        \n",
      "                     *****************************************************      \n",
      "                         ***************************************************    \n",
      "                         ************** ************************************    \n",
      "                           ***********   ************************************   \n",
      "                           ** ***** *     **********************************    \n",
      "                                *         **********************************    \n",
      "                             "
     ]
    },
    {
     "name": "stdout",
     "output_type": "stream",
     "text": [
      "            ************************************   \n",
      "                                            ******************************      \n",
      "                                           ******************************       \n",
      "                                              ****************************      \n",
      "                                              ************************  ***     \n",
      "                                              ***   *****************           \n",
      "                                                      ******** **   *           \n",
      "                                                         ******                 \n",
      "                                                       ********                 \n",
      "                                                         ******                 \n",
      "                                                           **                   \n",
      "                                                                                \n",
      "                                                                                \n",
      "                                                                                \n"
     ]
    }
   ],
   "source": [
    "for y=1.0:-0.05:-1.0\n",
    "    for x=-2.0:0.0315:0.5\n",
    "        abs(mandelbrot(complex(x, y))) < 2 ? print(\"*\") : print(\" \")\n",
    "    end\n",
    "    println()\n",
    "end"
   ]
  }
 ],
 "metadata": {
  "kernelspec": {
   "display_name": "Julia 1.9.3",
   "language": "julia",
   "name": "julia-1.9"
  },
  "language_info": {
   "file_extension": ".jl",
   "mimetype": "application/julia",
   "name": "julia",
   "version": "1.9.3"
  },
  "orig_nbformat": 4
 },
 "nbformat": 4,
 "nbformat_minor": 2
}
