{
 "cells": [
  {
   "cell_type": "markdown",
   "metadata": {},
   "source": [
    "#"
   ]
  },
  {
   "cell_type": "markdown",
   "metadata": {},
   "source": [
    "# Seaborn Learning"
   ]
  },
  {
   "cell_type": "code",
   "execution_count": null,
   "metadata": {},
   "outputs": [],
   "source": [
    "# Import seaborn\n",
    "import numpy as np\n",
    "import matplotlib.pyplot as plt\n",
    "import seaborn as sns"
   ]
  },
  {
   "cell_type": "code",
   "execution_count": null,
   "metadata": {},
   "outputs": [],
   "source": [
    "# Apply the default theme\n",
    "sns.set_theme()"
   ]
  },
  {
   "cell_type": "code",
   "execution_count": null,
   "metadata": {},
   "outputs": [],
   "source": [
    "# Load an example dataset\n",
    "tips = sns.load_dataset(\"tips\")"
   ]
  },
  {
   "cell_type": "code",
   "execution_count": null,
   "metadata": {},
   "outputs": [],
   "source": [
    "# Create a visualization\n",
    "sns.relplot(\n",
    "    data=tips,\n",
    "    x=\"total_bill\", y=\"tip\", col=\"time\",\n",
    "    hue=\"smoker\", style=\"smoker\", size=\"size\",\n",
    ")"
   ]
  },
  {
   "cell_type": "code",
   "execution_count": null,
   "metadata": {},
   "outputs": [],
   "source": [
    "dots = sns.load_dataset(\"dots\")\n",
    "sns.relplot(\n",
    "    data = dots, kind = \"line\",\n",
    "     x = \"time\", y = \"firing_rate\", col = \"align\",\n",
    "     hue = \"choice\", size = \"coherence\", style = \"choice\",\n",
    "     facet_kws = dict(sharex = False)\n",
    ")"
   ]
  },
  {
   "cell_type": "code",
   "execution_count": null,
   "metadata": {},
   "outputs": [],
   "source": [
    "fmri = sns.load_dataset(\"fmri\")\n",
    "sns.relplot(\n",
    "    data = fmri, kind = \"line\",\n",
    "    x = \"timepoint\", y = \"signal\", col = \"region\",\n",
    "    hue = \"event\", style = \"event\"\n",
    ")"
   ]
  },
  {
   "cell_type": "code",
   "execution_count": null,
   "metadata": {},
   "outputs": [],
   "source": [
    "sns.lmplot(data = tips, x = \"total_bill\", y = \"tip\", col = \"time\", hue = \"smoker\")"
   ]
  },
  {
   "cell_type": "code",
   "execution_count": null,
   "metadata": {},
   "outputs": [],
   "source": [
    "# Distributional Representation\n",
    "sns.displot(data = tips, x = \"total_bill\", col = \"time\", kde = True)"
   ]
  },
  {
   "cell_type": "code",
   "execution_count": null,
   "metadata": {},
   "outputs": [],
   "source": [
    "sns.displot(data = tips, kind = \"ecdf\", x = \"total_bill\", col = \"time\", hue = \"smoker\", rug = True)"
   ]
  },
  {
   "cell_type": "code",
   "execution_count": null,
   "metadata": {},
   "outputs": [],
   "source": [
    "# Plots Categorical Data\n",
    "sns.catplot(data = tips, kind = \"swarm\", x = \"day\", y=\"total_bill\", hue=\"smoker\")"
   ]
  },
  {
   "cell_type": "code",
   "execution_count": null,
   "metadata": {},
   "outputs": [],
   "source": [
    "sns.catplot(data = tips, kind = \"violin\", x = \"day\", y=\"total_bill\", hue = \"smoker\", split = True)"
   ]
  },
  {
   "cell_type": "code",
   "execution_count": null,
   "metadata": {},
   "outputs": [],
   "source": [
    "sns.catplot(data = tips, kind = \"bar\", x = \"day\", y = \"total_bill\", hue = \"smoker\")"
   ]
  },
  {
   "cell_type": "code",
   "execution_count": null,
   "metadata": {},
   "outputs": [],
   "source": [
    "# Multivariate views on Complex datasets\n",
    "penguins = sns.load_dataset(\"penguins\")\n",
    "sns.jointplot(data = penguins, x = \"flipper_length_mm\", y = \"bill_length_mm\", hue = \"species\")"
   ]
  },
  {
   "cell_type": "code",
   "execution_count": null,
   "metadata": {},
   "outputs": [],
   "source": [
    "sns.pairplot(data = penguins, hue = \"species\")"
   ]
  },
  {
   "cell_type": "code",
   "execution_count": null,
   "metadata": {},
   "outputs": [],
   "source": [
    "# Lower-level tools for building figures\n",
    "g = sns.PairGrid(penguins, hue =\"species\", corner = True)\n",
    "g.map_lower(sns.kdeplot, hue = None, levels = 5, color = \".2\")\n",
    "g.map_lower(sns.scatterplot, marker = \"+\")\n",
    "g.map_diag(sns.histplot, element = \"step\", linewidth = 0, kde = True)\n",
    "g.add_legend(frameon = True)\n",
    "g.legend.set_bbox_to_anchor((.61, .6))"
   ]
  },
  {
   "cell_type": "code",
   "execution_count": null,
   "metadata": {},
   "outputs": [],
   "source": [
    "# Opinionated Defaults and flexible customization\n",
    "sns.relplot(\n",
    "    data = penguins,\n",
    "    x = \"bill_length_mm\",\n",
    "    y = \"bill_depth_mm\",\n",
    "    hue = \"body_mass_g\"\n",
    ")"
   ]
  },
  {
   "cell_type": "code",
   "execution_count": null,
   "metadata": {},
   "outputs": [],
   "source": [
    "sns.set_theme(style = \"ticks\", font_scale = 1.25)\n",
    "g = sns.relplot(\n",
    "    data = penguins,\n",
    "    x = \"bill_length_mm\", y = \"bill_depth_mm\", hue = \"body_mass_g\",\n",
    "    palette = \"crest\", marker = \"x\", s = 100\n",
    ")\n",
    "g.set_axis_labels(\"Bill length (mm) Bill depth (mm)\", labelpad = 10)\n",
    "g.legend.set_title(\"Body Mass (g)\")\n",
    "g.figure.set_size_inches(6.5, 4.5)\n",
    "g.ax.margins(.15)\n",
    "g.despine(trim = True)"
   ]
  },
  {
   "cell_type": "code",
   "execution_count": null,
   "metadata": {},
   "outputs": [],
   "source": [
    "sns.set_theme(style = \"dark\")\n",
    "\n",
    "# Stimulate data from a bivariate Gaussian\n",
    "\n",
    "n = 10000\n",
    "mean = [0, 0]\n",
    "cov = [(2, .4), (.4, .2)]\n",
    "rng = np.random.RandomState(0)\n",
    "x, y = rng.multivariate_normal(mean, cov, n).T\n",
    "\n",
    "# Draw a combo histogram and scatterplot with density contours\n",
    "f, ax = plt.subplots(figsize = (6, 6))\n",
    "sns.scatterplot(x=x, y=y, s=5, color =\".15\")\n",
    "sns.histplot(x=x, y=y, bins = 50, pthresh = .1, cmap = \"mako\")\n",
    "sns.kdeplot(x=x, y=y, levels = 5, color = \"w\", linewidths = 1)"
   ]
  },
  {
   "cell_type": "code",
   "execution_count": null,
   "metadata": {},
   "outputs": [],
   "source": [
    "# Faceted logistic regression\n",
    "sns.set_theme(style=\"darkgrid\")\n",
    "\n",
    "# Load the example  Titanic  dataset\n",
    "df = sns.load_dataset(\"titanic\")\n",
    "\n",
    "# Make a custom palette with gendered colors\n",
    "pal = dict(male = \"#6495ED\", female = \"#F08080\")\n",
    "\n",
    "# Show the survival probability as a function of age and sex\n",
    "g = sns.lmplot(x = \"age\", y = \"survived\", col = \"sex\", hue = \"sex\", data =df,\n",
    "               palette=pal, y_jitter=.02, logistic=True, truncate=False)\n",
    "g.set(xlim=(0, 80), ylim=(-.05, 1.05))"
   ]
  },
  {
   "cell_type": "code",
   "execution_count": null,
   "metadata": {},
   "outputs": [],
   "source": [
    "# Paired density and scatter plot matrix\n",
    "sns.set_theme(style = \"white\")\n",
    "\n",
    "df = sns.load_dataset(\"penguins\")\n",
    "\n",
    "g = sns.PairGrid(df, diag_sharey=False)\n",
    "g.map_upper(sns.scatterplot, s = 15)\n",
    "g.map_lower(sns.kdeplot)\n",
    "g.map_diag(sns.kdeplot, lw = 2)"
   ]
  },
  {
   "cell_type": "code",
   "execution_count": null,
   "metadata": {},
   "outputs": [],
   "source": [
    "sns.set_theme()\n",
    "\n",
    "# Load the example flights dataset  and convert to Long-form\n",
    "flights_long = sns.load_dataset(\"flights\")\n",
    "flights = flights_long.pivot(\"month\", \"year\", \"passengers\")\n",
    "\n",
    "# Draw a heatmap with the numeric values in a each cell  \n",
    "f, ax = plt.subplots(figsize  = (9, 6))\n",
    "sns.heatmap(flights, annot = True, fmt = \"d\", linewidths=.5, ax=ax)"
   ]
  },
  {
   "cell_type": "code",
   "execution_count": null,
   "metadata": {},
   "outputs": [],
   "source": [
    "# Scatter plot with varying point sizes and hues\n",
    "sns.set_theme(style = \"white\")\n",
    "\n",
    "# Load the example mpg dataset \n",
    "mpg = sns.load_dataset(\"mpg\")\n",
    "\n",
    "# Plot miles per gallon against horsepower with other semantics\n",
    "sns.relplot(x= \"horsepower\", y = \"mpg\", hue = \"origin\", size = \"weight\",\n",
    "            sizes = (40, 400), alpha = .5, palette=\"muted\", height=6, data =  mpg)"
   ]
  },
  {
   "cell_type": "code",
   "execution_count": null,
   "metadata": {},
   "outputs": [],
   "source": [
    "# Scatter Plot Matrix\n",
    "sns.set_theme(style = \"ticks\")\n",
    "\n",
    "df = sns.load_dataset(\"penguins\")\n",
    "sns.pairplot(df, hue = \"species\")"
   ]
  }
 ],
 "metadata": {
  "kernelspec": {
   "display_name": "Python 3",
   "language": "python",
   "name": "python3"
  },
  "language_info": {
   "codemirror_mode": {
    "name": "ipython",
    "version": 3
   },
   "file_extension": ".py",
   "mimetype": "text/x-python",
   "name": "python",
   "nbconvert_exporter": "python",
   "pygments_lexer": "ipython3",
   "version": "3.11.4"
  }
 },
 "nbformat": 4,
 "nbformat_minor": 2
}
