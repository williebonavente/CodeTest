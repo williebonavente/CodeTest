{
 "cells": [
  {
   "cell_type": "markdown",
   "metadata": {},
   "source": [
    "# Object Oriented Programming"
   ]
  },
  {
   "cell_type": "markdown",
   "metadata": {},
   "source": [
    "## Classes and Object"
   ]
  },
  {
   "cell_type": "code",
   "execution_count": null,
   "metadata": {},
   "outputs": [],
   "source": [
    "\"\"\"\"\n",
    "objects \n",
    "    - has attributes\n",
    "        - adjectives (describe) name, age, color\n",
    "    - behaviors\n",
    "        - verb (actions) dancing, singing, talking\n",
    "classes\n",
    "\"\"\"\n",
    "\n",
    "class Parrot:\n",
    "    # class attribute\n",
    "    name = \"\"\n",
    "    age = 0\n",
    "\n",
    "# create parrot1 object\n",
    "parrot1 = Parrot()\n",
    "parrot1.name = \"Blu\"\n",
    "parrot1.age = 15\n",
    "\n",
    "# create parrot2 object\n",
    "parrot2 = Parrot()\n",
    "parrot2.name = \"Viola\"\n",
    "parrot2.age = 10"
   ]
  },
  {
   "cell_type": "code",
   "execution_count": null,
   "metadata": {},
   "outputs": [],
   "source": [
    "# accessing attributes\n",
    "print(f\"{parrot1.name} is {parrot1.age} years old.\")\n",
    "print(f\"{parrot2.name} is {parrot2.age} years old.\")"
   ]
  },
  {
   "cell_type": "markdown",
   "metadata": {},
   "source": [
    "## Inheritance"
   ]
  },
  {
   "cell_type": "code",
   "execution_count": null,
   "metadata": {},
   "outputs": [],
   "source": [
    "# base class\n",
    "class Animal:\n",
    "    \n",
    "    def eat(self):\n",
    "        print(\"I can eat\")\n",
    "    \n",
    "    def sleep(self):\n",
    "        print(\"I can sleep\")\n",
    "\n",
    "# derived class\n",
    "class Dog(Animal): # in the parameter()\n",
    "    \n",
    "    def bark(self):\n",
    "        print(\"I can bark! Woof! Woof!\")"
   ]
  },
  {
   "cell_type": "code",
   "execution_count": null,
   "metadata": {},
   "outputs": [],
   "source": [
    "#  Create object of the Dog Class\n",
    "dog1 = Dog()\n",
    "\n",
    "# Calling members of the base class\n",
    "dog1.eat()\n",
    "dog1.sleep()\n",
    "\n",
    "# Calling member of the derived class\n",
    "dog1.bark()"
   ]
  },
  {
   "cell_type": "markdown",
   "metadata": {},
   "source": [
    "## Encapsulation\n",
    "It prevents outer classes from accessing and changing attributes and methods of a class. This also helps to achieve data hiding."
   ]
  },
  {
   "cell_type": "code",
   "execution_count": null,
   "metadata": {},
   "outputs": [],
   "source": [
    "class Computer:\n",
    "    \n",
    "    def __init__(self):\n",
    "        self.__maxprice = 900\n",
    "    \n",
    "    def sell(self):\n",
    "        print(\"Selling Price: {}\".format(self.__maxprice))\n",
    "    \n",
    "    def setMaxPrice(self, price):\n",
    "        self.__maxprice = price\n",
    "\n",
    "c = Computer()\n",
    "c.sell()\n",
    "\n",
    "# change the price\n",
    "c.__maxprice = 1000\n",
    "c.sell()\n",
    "\n",
    "# using setter function\n",
    "c.setMaxPrice(1000)\n",
    "c.sell()"
   ]
  },
  {
   "cell_type": "markdown",
   "metadata": {},
   "source": [
    "REFERENCE : https://www.programiz.com/python-programming/object-oriented-programming"
   ]
  },
  {
   "cell_type": "markdown",
   "metadata": {},
   "source": []
  }
 ],
 "metadata": {
  "kernelspec": {
   "display_name": "base",
   "language": "python",
   "name": "python3"
  },
  "language_info": {
   "codemirror_mode": {
    "name": "ipython",
    "version": 3
   },
   "file_extension": ".py",
   "mimetype": "text/x-python",
   "name": "python",
   "nbconvert_exporter": "python",
   "pygments_lexer": "ipython3",
   "version": "3.11.4"
  }
 },
 "nbformat": 4,
 "nbformat_minor": 2
}
