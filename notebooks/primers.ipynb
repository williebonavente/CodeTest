{
 "cells": [
  {
   "cell_type": "code",
   "execution_count": null,
   "metadata": {},
   "outputs": [],
   "source": [
    "import this"
   ]
  },
  {
   "cell_type": "code",
   "execution_count": null,
   "metadata": {},
   "outputs": [],
   "source": [
    "# quicksort\n",
    "\n",
    "def quicksort(arr):\n",
    "    if len(arr) <= 1:\n",
    "        return arr\n",
    "    pivot = arr[len(arr) // 2]\n",
    "    left = [x for x in arr if x < pivot]\n",
    "    middle = [x for x in arr if x == pivot]\n",
    "    right = [x for x in arr if x > pivot]\n",
    "    return quicksort(left) + middle + quicksort(right)\n",
    "\n",
    "quicksort([3, 6, 8, 10, 1, 2, 1])"
   ]
  },
  {
   "cell_type": "code",
   "execution_count": null,
   "metadata": {},
   "outputs": [],
   "source": [
    "# Creating Truth Tables\n",
    "t = True\n",
    "f = False\n",
    "p = f and t and t or t\n",
    "q = t or f and f and t\n",
    "print(p and not(q)) # contradiction\n",
    "print(not(q) or q) # tautology"
   ]
  },
  {
   "cell_type": "code",
   "execution_count": null,
   "metadata": {},
   "outputs": [],
   "source": [
    "# Returning False\n",
    "bool(0)\n",
    "bool(\"\")\n",
    "bool([])\n",
    "bool(())"
   ]
  },
  {
   "cell_type": "code",
   "execution_count": null,
   "metadata": {},
   "outputs": [],
   "source": [
    "x = int(input(\"Enter number: \"))\n",
    "if x != x:\n",
    "    print(False)\n",
    "else:\n",
    "    print(True)"
   ]
  },
  {
   "cell_type": "markdown",
   "metadata": {},
   "source": [
    "## $F$ string"
   ]
  },
  {
   "cell_type": "code",
   "execution_count": null,
   "metadata": {},
   "outputs": [],
   "source": [
    "# Dictionary f-string\n",
    "name = \"Willie\"\n",
    "print(f\"his name is {name}\")\n",
    "print(f\"{name} is {len(name)} characters long.\")"
   ]
  },
  {
   "cell_type": "code",
   "execution_count": null,
   "metadata": {},
   "outputs": [],
   "source": [
    "# Padding and aligning string\n",
    "print('{:_<10}'.format('test'))\n",
    "print('{:0<10}'.format('test'))\n",
    "print('{:^10}'.format('test')) # Return in the middle\n",
    "print('{:^6}'.format('zip')) # Returns zip"
   ]
  },
  {
   "cell_type": "code",
   "execution_count": null,
   "metadata": {},
   "outputs": [],
   "source": [
    "def binary_search(arr, x):\n",
    "    \"\"\"\n",
    "    Searches for the given value in the given array using the binary search algorithm\n",
    "\n",
    "    Args:\n",
    "        arr: The array to search in.\n",
    "        x: The value to search for.\n",
    "\n",
    "    Returns:\n",
    "        The index of the value in the array, or -1 if the value is not found.\n",
    "    \"\"\"\n",
    "    arr.sort()  # sort the array first\n",
    "\n",
    "    i = 0\n",
    "    j = len(arr) - 1\n",
    "\n",
    "    while i <= j:\n",
    "        mid = (i + j) // 2\n",
    "\n",
    "        if arr[mid] == x:\n",
    "            return mid\n",
    "\n",
    "        elif arr[mid] < x:\n",
    "            i = mid + 1\n",
    "        else:\n",
    "            j = mid - 1\n",
    "\n",
    "    return -1\n",
    "\n",
    "def main():\n",
    "    arr = [1, 5, 3, 2, 7]\n",
    "    x = 5\n",
    "    \n",
    "    location = binary_search(arr,x)\n",
    "    \n",
    "    if location != -1:\n",
    "        print(f\"The value of {x} is found at index {location}\")\n",
    "    else:\n",
    "        print(f\"The value {x} is not found\")\n",
    "        \n",
    "        \n",
    "if __name__ == \"__main__\":\n",
    "    main()\n"
   ]
  },
  {
   "cell_type": "code",
   "execution_count": null,
   "metadata": {},
   "outputs": [],
   "source": [
    "# Coordinates\n",
    "'{2:s}. {1:s},{0:s}'.format('test1', 'test2','test3')\n",
    "'{2}.{1},{0}'.format('test1', 'test2','test3') # same but shorter"
   ]
  },
  {
   "cell_type": "code",
   "execution_count": null,
   "metadata": {},
   "outputs": [],
   "source": [
    "# Formatting \n",
    "'{2}, {1}, {0}'.format(*'abc')"
   ]
  },
  {
   "cell_type": "code",
   "execution_count": null,
   "metadata": {},
   "outputs": [],
   "source": [
    "# Unpacking arguments by name\n",
    "'Coordinates: {latitude}, {longitude}'.format(latitude = '37.24N', longitude = '-115.81W')\n",
    "\n",
    "coordinate = {'latitude': '37.24N', 'longitude': '-115.81W'}\n",
    "print('Coordinates: {latitude}, {longitude}'.format(**coordinate))"
   ]
  },
  {
   "cell_type": "markdown",
   "metadata": {},
   "source": [
    "### Combining Truncating and Padding "
   ]
  },
  {
   "cell_type": "code",
   "execution_count": null,
   "metadata": {},
   "outputs": [],
   "source": [
    "# Truncating Long String \n",
    "'%.5s' % ('Willie M. Bonavente')\n",
    "'{:5}'.format('Willie M. Bonavente')"
   ]
  },
  {
   "cell_type": "code",
   "execution_count": null,
   "metadata": {},
   "outputs": [],
   "source": [
    "# Formatting Numbers\n",
    "\"%d\" % (42) # Int\n",
    "\"{:d}\".format(42)"
   ]
  },
  {
   "cell_type": "code",
   "execution_count": null,
   "metadata": {},
   "outputs": [],
   "source": [
    "\"%f\" % (3.141592653589793)\n",
    "\"{:f}\".format(3.141592653589793)\n"
   ]
  },
  {
   "cell_type": "code",
   "execution_count": null,
   "metadata": {},
   "outputs": [],
   "source": [
    "# C programming be like in python\n",
    "\n",
    "def main():\n",
    "    print(\"Hello, World\")\n",
    "    \n",
    "if __name__ == \"__main__\":\n",
    "    main()"
   ]
  },
  {
   "cell_type": "code",
   "execution_count": null,
   "metadata": {},
   "outputs": [],
   "source": [
    "# Padding Numbers\n",
    "'%4d' %(42,)"
   ]
  },
  {
   "cell_type": "code",
   "execution_count": null,
   "metadata": {},
   "outputs": [],
   "source": [
    "# Floats\n",
    "\"%06.2f\" % (3.141592653589793,)\n",
    "\"{:06.2f}\".format(3.141592653589793,)"
   ]
  },
  {
   "cell_type": "code",
   "execution_count": null,
   "metadata": {},
   "outputs": [],
   "source": [
    "\"%04d\" % (42) # Returns 0042\n",
    "\"{:04d}\".format(42)"
   ]
  },
  {
   "cell_type": "code",
   "execution_count": null,
   "metadata": {},
   "outputs": [],
   "source": [
    "# Number System\n",
    "\"int: {0:d}; hex: {0:x}; oct {0:o}; bin: {0:b}\".format(42)"
   ]
  },
  {
   "cell_type": "code",
   "execution_count": null,
   "metadata": {},
   "outputs": [],
   "source": [
    "# With 0x, 0o, or 0b\n",
    "\"int: {0:d}; hex {0:#x}; oct: {0:#o}; bin: {0:#b}\".format(42)"
   ]
  },
  {
   "cell_type": "code",
   "execution_count": null,
   "metadata": {},
   "outputs": [],
   "source": [
    "'{:,}'.format(1234567890987654321)"
   ]
  },
  {
   "cell_type": "code",
   "execution_count": null,
   "metadata": {},
   "outputs": [],
   "source": [
    "# Expressing a percentage \n",
    "points = 19\n",
    "total = 22\n",
    "print('Correct Answers: {:.2%}'.format(points/total))"
   ]
  },
  {
   "cell_type": "code",
   "execution_count": null,
   "metadata": {},
   "outputs": [],
   "source": [
    "# Using type-specific formatting \n",
    "import datetime \n",
    "d = datetime.datetime(2023, 7, 4, 12, 15, 58)\n",
    "'{:%Y-%m-%d %H:%M:%S}'.format(d)"
   ]
  },
  {
   "cell_type": "code",
   "execution_count": null,
   "metadata": {},
   "outputs": [],
   "source": [
    "# Nesting an arguments and more complex examples\n",
    "for  align, text  in zip('<>', ['left', 'center', 'right']):\n",
    "    '{0:{fill}{align}16}'.format(text, fill=align, align = align)\n",
    "    \n",
    "width = 5\n",
    "for num in range(5, 12):\n",
    "    for base in 'dXob':\n",
    "        print('{0: {width}{base}}'.format(num, base= base, width=width), end=' ')\n",
    "    print()"
   ]
  },
  {
   "cell_type": "code",
   "execution_count": null,
   "metadata": {},
   "outputs": [],
   "source": [
    "# Formatting floats\n",
    "val = 12.3\n",
    "f'{val:.2f}'\n",
    "f'{val:.5f}'"
   ]
  },
  {
   "cell_type": "code",
   "execution_count": null,
   "metadata": {},
   "outputs": [],
   "source": [
    "# Formatting width\n",
    "for x in range(1, 11):\n",
    "    print(f'{x:02} {x*x:3} {x*x*x:4} {x*x*x*x:5}')"
   ]
  },
  {
   "cell_type": "markdown",
   "metadata": {},
   "source": [
    "### Index of a Substring in Python String"
   ]
  },
  {
   "cell_type": "code",
   "execution_count": null,
   "metadata": {},
   "outputs": [],
   "source": [
    "sentence = \"Today is Saturaday\""
   ]
  },
  {
   "cell_type": "code",
   "execution_count": null,
   "metadata": {},
   "outputs": [],
   "source": [
    "print(sentence.find(\"day\"))\n",
    "print(sentence.find(\"nice\"))"
   ]
  },
  {
   "cell_type": "code",
   "execution_count": null,
   "metadata": {},
   "outputs": [],
   "source": [
    "#  Searching by index\n",
    "sentence.find(\"day\", 3)\n",
    "sentence.index(\"day\")"
   ]
  },
  {
   "cell_type": "code",
   "execution_count": null,
   "metadata": {},
   "outputs": [],
   "source": [
    "import re\n",
    "\n",
    "text = \"Today is 8/11/2023\"\n",
    "match_pattern = r\"(\\d+)/(\\d+)/(\\d+)\"\n",
    "\n",
    "print(re.sub(match_pattern, \"Friday\", text)) # Returns 'Today is Friday'\n",
    "print(re.sub(match_pattern, r\"\\3-\\1-\\2\",text)) # Returns 'Today is 2023-8-11"
   ]
  },
  {
   "cell_type": "markdown",
   "metadata": {},
   "source": [
    "### Containers"
   ]
  },
  {
   "cell_type": "code",
   "execution_count": null,
   "metadata": {},
   "outputs": [],
   "source": [
    "from collections.abc import Container, Mapping # Can also use \"from typing import Sequence\"\n",
    "isinstance(list(), Container)  # Prints True\n",
    "isinstance(tuple(), Container) # Prints True\n",
    "isinstance(set(), Container)   # Prints True\n",
    "isinstance(dict(), Container)  # Prints True\n",
    "\n",
    "# Note that the \"dict\" datatype is also a mapping datatype (along with being a container):\n",
    "isinstance(dict(), Mapping) # Prints True"
   ]
  },
  {
   "cell_type": "markdown",
   "metadata": {},
   "source": [
    "### List"
   ]
  },
  {
   "cell_type": "markdown",
   "metadata": {},
   "source": [
    "List - array in `C` programming but is resizable and can contain elements of different types"
   ]
  },
  {
   "cell_type": "code",
   "execution_count": null,
   "metadata": {},
   "outputs": [],
   "source": [
    "l = [3, 1, \"2\", \"nice\"] # Creating a list\n",
    "l[0]  # Access a list like you would an array; returns \"1\"\n",
    "l[::-1] # Reversing the order\n",
    "l, l[2]\n",
    "l[-1] \n",
    "l[3] = \"foo\" # List can contain elements in different types\n",
    "l\n",
    "l.append(\"bar\")  # Add new element to the end of the list\n",
    "l # Prints \"[3, 1, 'foo', 'bar']\"\n",
    "x = l.pop() # Removing and return the last element of the list\n",
    "print(x)\n",
    "print(l)\n",
    "print(int(l[2]) + l[0]) "
   ]
  },
  {
   "cell_type": "code",
   "execution_count": null,
   "metadata": {},
   "outputs": [],
   "source": [
    "# List be \"unpacked\" into variables\n",
    "a, b, c = [1, 2, 3] # a is now 1, b is now 2, and c is now 3\n",
    "\n",
    "# Extending the unpack\n",
    "a, *b, c = [1, 2, 3, 4] # a is now 1, b is now [2, 3] and c is now 4\n",
    "\n",
    "# Swapping\n",
    "x, y = [3, 4]\n",
    "y, x = [x, y]\n",
    "print(x, y)"
   ]
  },
  {
   "cell_type": "code",
   "execution_count": null,
   "metadata": {},
   "outputs": [],
   "source": [
    "# Iterate over a list\n",
    "animals = ['cat', 'dog', 'monkey']\n",
    "for animal in animals:\n",
    "    print(animal)"
   ]
  },
  {
   "cell_type": "code",
   "execution_count": null,
   "metadata": {},
   "outputs": [],
   "source": [
    "animals = ['cat', 'dog', 'monkey']\n",
    "for idx, animal in enumerate(animals):\n",
    "    print(\"#%d: %s\" % (idx + 1 , animal))"
   ]
  },
  {
   "cell_type": "markdown",
   "metadata": {
    "slideshow": {
     "slide_type": "slide"
    }
   },
   "source": [
    "### List Comprehension"
   ]
  },
  {
   "cell_type": "code",
   "execution_count": null,
   "metadata": {},
   "outputs": [],
   "source": [
    "# Shortcut method\n",
    "nums = [0, 1, 2, 3, 4]\n",
    "squares = []\n",
    "for x in nums:\n",
    "    if x % 2 == 0:\n",
    "        squares.append(x ** 2)\n",
    "squares\n",
    "\n",
    "for i in squares:\n",
    "    print(i)"
   ]
  },
  {
   "cell_type": "code",
   "execution_count": null,
   "metadata": {},
   "outputs": [],
   "source": [
    "nums = [0, 1, 2, 3, 4]\n",
    "base = [5, 6, 7, 8, 9]\n",
    "[x ** 2 for x in nums if x % 2 == 0] \n",
    "[i ** 3 for i in base]\n"
   ]
  },
  {
   "cell_type": "code",
   "execution_count": null,
   "metadata": {},
   "outputs": [],
   "source": [
    "nums = [0, 1, 2, 3, 4]\n",
    "\n",
    "# Create a list with x ** 2 if x is odd else 0, for each element of x\n",
    "[x ** 2 if x % 2 else 0 for x in nums]"
   ]
  },
  {
   "cell_type": "code",
   "execution_count": null,
   "metadata": {},
   "outputs": [],
   "source": [
    "# List comprehension can emulate `map` and/or `filter`\n",
    "[i + 10 for i in [1, 2, 3]]\n",
    "[x for x in [3, 4, 5, 6, 7] if x > 5]"
   ]
  },
  {
   "cell_type": "code",
   "execution_count": null,
   "metadata": {},
   "outputs": [],
   "source": [
    "# Combination of the `list` constructor, and/or `map` and/or `filter`\n",
    "list(map(lambda x: x+10, [1, 2, 3]))\n",
    "list(map(max, [1, 2, 3], [4, 2, 1]))\n",
    "list(filter(lambda x: x > 5, [3, 4, 5, 6, 7]))"
   ]
  },
  {
   "cell_type": "markdown",
   "metadata": {},
   "source": [
    "### Nested Loops"
   ]
  },
  {
   "cell_type": "code",
   "execution_count": null,
   "metadata": {},
   "outputs": [],
   "source": [
    "list1 = [1, 2, 3, 4]\n",
    "list2 = [5, 6, 7, 10]\n",
    "matrix = [list1, list2]\n",
    "flattened = []\n",
    "for row in matrix:\n",
    "    for n in row:\n",
    "        flattened.append(n)\n",
    "print(flattened)"
   ]
  },
  {
   "cell_type": "code",
   "execution_count": null,
   "metadata": {},
   "outputs": [],
   "source": [
    "# List comprehension version\n",
    "flattened = [n for row in matrix for n in row]\n",
    "flattened"
   ]
  },
  {
   "cell_type": "markdown",
   "metadata": {},
   "source": [
    "### Slicing String"
   ]
  },
  {
   "cell_type": "code",
   "execution_count": null,
   "metadata": {},
   "outputs": [],
   "source": [
    "num = list(range(5))\n",
    "nums\n",
    "nums[2:4]\n",
    "nums[2:]\n",
    "nums[:2]\n",
    "nums[:]\n",
    "nums[:-1]"
   ]
  },
  {
   "cell_type": "code",
   "execution_count": null,
   "metadata": {},
   "outputs": [],
   "source": [
    "# Case 1\n",
    "nums1 = [1, 2, 3]\n",
    "nums1[1:] = [4, 5]\n",
    "nums1\n",
    "\n",
    "# Case 2\n",
    "nums2 = nums1\n",
    "nums2[1:] = [6]\n",
    "nums2\n",
    "\n",
    "id(nums1) == id(nums2)"
   ]
  },
  {
   "cell_type": "markdown",
   "metadata": {},
   "source": [
    "### List Function"
   ]
  },
  {
   "cell_type": "code",
   "execution_count": null,
   "metadata": {},
   "outputs": [],
   "source": [
    "l = [1, 2, 3]\n",
    "l_copy = l[:]\n",
    "\n",
    "del l_copy[2]\n",
    "\n",
    "l.remove(3)\n",
    "l.insert(2, 3)\n",
    "l.index(3)\n",
    "l_copy += [3]\n",
    "l + l_copy\n",
    "l.append(l_copy)\n",
    "1 in l\n",
    "len(l)"
   ]
  },
  {
   "cell_type": "code",
   "execution_count": null,
   "metadata": {},
   "outputs": [],
   "source": [
    "# extend function\n",
    "l = [1, 2, 3]\n",
    "l += [4, 5, 6]\n",
    "\n",
    "l.extend([[7, 8, 9]])\n",
    "\n",
    "# For slicing\n",
    "l[1:] = [10]\n",
    "l"
   ]
  },
  {
   "cell_type": "code",
   "execution_count": null,
   "metadata": {},
   "outputs": [],
   "source": [
    "# Extending a list with another iterable (in this case, a list)\n",
    "l = [1, 2, 3]\n",
    "l += 4,\n",
    "l += [5, 6, 7]\n",
    "\n",
    "# For Slicing\n",
    "l[1:] = 10,\n",
    "l"
   ]
  },
  {
   "cell_type": "markdown",
   "metadata": {},
   "source": [
    "## Dictionaries"
   ]
  },
  {
   "cell_type": "code",
   "execution_count": null,
   "metadata": {},
   "outputs": [],
   "source": [
    "d = {\"one\": 1, \"two\": 2, \"three\": 3}\n",
    "d['one']\n",
    "'two' in d\n",
    "d['four'] = 4\n",
    "d['four']"
   ]
  },
  {
   "cell_type": "code",
   "execution_count": null,
   "metadata": {},
   "outputs": [],
   "source": [
    "d.get(\"four\")\n",
    "d.get(\"five\")"
   ]
  },
  {
   "cell_type": "code",
   "execution_count": null,
   "metadata": {},
   "outputs": [],
   "source": [
    "d.get(\"five\", \"N/A\") # Get an element with a default; returns \"N/A\"\n",
    "d.get(\"four\", \"N/A\") # Get an element with a default; returns 4\n"
   ]
  },
  {
   "cell_type": "code",
   "execution_count": null,
   "metadata": {},
   "outputs": [],
   "source": [
    "fruits = [\n",
    "    {\"name\": \"apple\", \"attr\": {\"color\": \"red\", \"taste\": \"sweet\"}},\n",
    "    {\"name\": \"orange\", \"attr\": {\"taste\": \"sour\"}},\n",
    "    {\"name\": \"grape\", \"attr\":{\"color\": \"purple\"}},\n",
    "    {\"name\": \"banana\"}\n",
    "]\n",
    "\n",
    "colors = [fruit[\"attr\"][\"color\"]\n",
    "          if \"attr\" in fruit and \"color\" in fruit[\"attr\"] else \"unknown\"\n",
    "        for fruit in fruits]\n",
    "\n",
    "colors"
   ]
  },
  {
   "cell_type": "code",
   "execution_count": null,
   "metadata": {},
   "outputs": [],
   "source": [
    "colors = [fruit.get(\"attr\",{}).get(\"color\", \"unknown\") for fruit in fruits] # Shorter code\n",
    "colors"
   ]
  },
  {
   "cell_type": "markdown",
   "metadata": {},
   "source": [
    "`defualtdict`"
   ]
  },
  {
   "cell_type": "code",
   "execution_count": null,
   "metadata": {},
   "outputs": [],
   "source": [
    "from collections import defaultdict\n",
    "\n",
    "# create an empty defaultdict with default value equal to []\n",
    "default_list_d  = defaultdict(list)\n",
    "default_list_d['a'].append(1) # default_list_d is now {\"a\":[1]}\n",
    "\n",
    "# create a defaultdict with default value equal to 0\n",
    "default_int_d = defaultdict(int)\n",
    "default_int_d['c'] += 1 # default_int_d is now {\"c\": 1}"
   ]
  },
  {
   "cell_type": "code",
   "execution_count": null,
   "metadata": {},
   "outputs": [],
   "source": [
    "pair_dict = defaultdict(lambda: (0, 0))\n",
    "print(pair_dict['point'] == (0, 0)) # print True"
   ]
  },
  {
   "cell_type": "code",
   "execution_count": null,
   "metadata": {},
   "outputs": [],
   "source": [
    "# Key Membership Check\n",
    "d = {\"one\": 1, \"two\": 2, \"three\": 3} # Creating dictionary with some data\n",
    "doesOneExist = \"one\" in d # Return True\n",
    "doesOneExist"
   ]
  },
  {
   "cell_type": "code",
   "execution_count": null,
   "metadata": {},
   "outputs": [],
   "source": [
    "# Iterating Over Keys\n",
    "d = {\"a\": 0, \"b\": 5, \"c\": 6, \"d\": 7, \"e\": 11, \"f\": 18}\n",
    "# iterate over each key in d\n",
    "for key in d:\n",
    "    print(d[key])"
   ]
  },
  {
   "cell_type": "code",
   "execution_count": null,
   "metadata": {},
   "outputs": [],
   "source": [
    "# `del`\n",
    "d = {\"one\": 1, \"two\": 2, \"three\": 3}\n",
    "del d[\"one\"]\n",
    "d.get(\"four\", \"N/A\")"
   ]
  },
  {
   "cell_type": "code",
   "execution_count": null,
   "metadata": {},
   "outputs": [],
   "source": [
    "# Key Datatypes\n",
    "# invalid_dict = {[1, 2, 3]: \"123\"} # unhashable \n",
    "valid_dict = {(1, 2, 3) : [1, 2, 3]}\n",
    "valid_dict"
   ]
  },
  {
   "cell_type": "code",
   "execution_count": null,
   "metadata": {},
   "outputs": [],
   "source": [
    "filled_dict = {\"one\": 1, \"two\": 2, \"three\": 3}\n",
    "list(filled_dict.keys()) "
   ]
  },
  {
   "cell_type": "code",
   "execution_count": null,
   "metadata": {},
   "outputs": [],
   "source": [
    "list(filled_dict.values())"
   ]
  },
  {
   "cell_type": "code",
   "execution_count": null,
   "metadata": {},
   "outputs": [],
   "source": [
    "# Iteration Over a Dictionary\n",
    "d = {'person': 2, 'cat': 4, 'spider': 8}\n",
    "for animal in d:\n",
    "    legs = d[animal]\n",
    "    print('A %s has %d' % (animal, legs))\n"
   ]
  },
  {
   "cell_type": "code",
   "execution_count": null,
   "metadata": {},
   "outputs": [],
   "source": [
    "# Dictionary Comprehensions\n",
    "original = {'item1': 1, 'item2': 2, \"item3\": 3}\n",
    "flipped = {}\n",
    "for key, value in original.items():\n",
    "    flipped[value] = key\n",
    "flipped"
   ]
  },
  {
   "cell_type": "code",
   "execution_count": null,
   "metadata": {},
   "outputs": [],
   "source": [
    "# Same output but shorter\n",
    "flipped = {value: key for key, value in original.items()}\n",
    "flipped"
   ]
  },
  {
   "cell_type": "code",
   "execution_count": null,
   "metadata": {},
   "outputs": [],
   "source": [
    "nums = [0, 1, 2, 3, 4]\n",
    "even_num_to_square = {x: x**2 for x in nums if x % 2 == 0}\n",
    "print(even_num_to_square)"
   ]
  },
  {
   "cell_type": "code",
   "execution_count": null,
   "metadata": {},
   "outputs": [],
   "source": [
    "{x: x**2 for x in range(5)}"
   ]
  },
  {
   "cell_type": "markdown",
   "metadata": {},
   "source": [
    "### Sets"
   ]
  },
  {
   "cell_type": "code",
   "execution_count": null,
   "metadata": {},
   "outputs": [],
   "source": [
    "animals = {'cat', 'dog'}\n",
    "'cat' in animals\n",
    "'fish' in animals\n",
    "animals.add('fish')\n",
    "len(animals)"
   ]
  },
  {
   "cell_type": "code",
   "execution_count": null,
   "metadata": {},
   "outputs": [],
   "source": [
    "animals = set()\n",
    "animals.add('fish')"
   ]
  },
  {
   "cell_type": "code",
   "execution_count": null,
   "metadata": {},
   "outputs": [],
   "source": [
    "# invalid_set = {[1], 1} # unhashable type: 'list'\n",
    "valid_set = {(1), 1}"
   ]
  },
  {
   "cell_type": "code",
   "execution_count": null,
   "metadata": {},
   "outputs": [],
   "source": [
    "s = {1, 2, 3}\n",
    "s1 = s.copy\n",
    "s1() == s"
   ]
  },
  {
   "cell_type": "markdown",
   "metadata": {},
   "source": [
    "### Set Operations"
   ]
  },
  {
   "cell_type": "code",
   "execution_count": null,
   "metadata": {},
   "outputs": [],
   "source": []
  },
  {
   "cell_type": "code",
   "execution_count": null,
   "metadata": {},
   "outputs": [],
   "source": [
    "# Do set intersection with 8\n",
    "filled_set = {1, 2, 3, 4, 5, 6, 7, 8}\n",
    "other_set = {3, 4, 5, 6}\n",
    "\n",
    "# Intersection\n",
    "filled_set & other_set \n",
    "\n",
    "# Do set Union with |\n",
    "filled_set | other_set\n",
    "\n",
    "# Do set difference with `-`\n",
    "{1, 2, 3, 4} - {2, 3, 5}\n",
    "\n",
    "# Do set symmetric difference with ^\n",
    "{1, 2, 3, 4} ^ {2, 3, 5}\n",
    "\n",
    "\n",
    "# check if the set on the left is a superset of set on the right\n",
    "{1, 2} >= {1, 2, 3}\n",
    " \n",
    "# check if the set on the left is a subset of set on the right\n",
    "{1, 2} <= {1, 2, 3}"
   ]
  },
  {
   "cell_type": "code",
   "execution_count": null,
   "metadata": {},
   "outputs": [],
   "source": [
    "# Set Comprehensions\n",
    "first_letters = set()\n",
    "words = {\"nice\", \"therefore\", \"moreover\"}\n",
    "for w in words:\n",
    "    first_letters.add(w[0])\n",
    "print(first_letters)"
   ]
  },
  {
   "cell_type": "code",
   "execution_count": null,
   "metadata": {},
   "outputs": [],
   "source": [
    "# Same output\n",
    "first_letters = {w[0] for w in words}\n",
    "first_letters"
   ]
  },
  {
   "cell_type": "code",
   "execution_count": null,
   "metadata": {},
   "outputs": [],
   "source": [
    "from math import sqrt\n",
    "nums = {int(sqrt(x)) for x  in range(101)}\n",
    "print(nums)"
   ]
  },
  {
   "cell_type": "code",
   "execution_count": null,
   "metadata": {},
   "outputs": [],
   "source": [
    "{x for x in 'abcdeef' if x not in 'abc'}"
   ]
  },
  {
   "cell_type": "markdown",
   "metadata": {},
   "source": [
    "### TUPLES"
   ]
  },
  {
   "cell_type": "code",
   "execution_count": 1,
   "metadata": {},
   "outputs": [
    {
     "data": {
      "text/plain": [
       "1"
      ]
     },
     "execution_count": 1,
     "metadata": {},
     "output_type": "execute_result"
    }
   ],
   "source": [
    "t = (1, 2, 3)\n",
    "t[0]"
   ]
  },
  {
   "cell_type": "code",
   "execution_count": 4,
   "metadata": {},
   "outputs": [
    {
     "data": {
      "text/plain": [
       "tuple"
      ]
     },
     "execution_count": 4,
     "metadata": {},
     "output_type": "execute_result"
    }
   ],
   "source": [
    "type((1))\n",
    "type((1, ))\n",
    "type(())\n"
   ]
  },
  {
   "cell_type": "code",
   "execution_count": 13,
   "metadata": {},
   "outputs": [
    {
     "data": {
      "text/plain": [
       "1"
      ]
     },
     "execution_count": 13,
     "metadata": {},
     "output_type": "execute_result"
    }
   ],
   "source": [
    "d = {(x, x + 1) : x for x in range(10)}\n",
    "t = (1, 2)\n",
    "type(t)\n",
    "d[t]\n",
    "d[(1, 2)]"
   ]
  },
  {
   "cell_type": "code",
   "execution_count": 17,
   "metadata": {},
   "outputs": [
    {
     "data": {
      "text/plain": [
       "True"
      ]
     },
     "execution_count": 17,
     "metadata": {},
     "output_type": "execute_result"
    }
   ],
   "source": [
    "tup = (1, 2, 3)\n",
    "len(tup)\n",
    "tup + (4, 5, 6)\n",
    "tup[:2]\n",
    "2 in tup"
   ]
  },
  {
   "cell_type": "code",
   "execution_count": 26,
   "metadata": {},
   "outputs": [
    {
     "data": {
      "text/plain": [
       "(1, 2, 3)"
      ]
     },
     "execution_count": 26,
     "metadata": {},
     "output_type": "execute_result"
    }
   ],
   "source": [
    "# Unpacking \n",
    "a, b, c = (1, 2, 3)\n",
    "a, *b, c = (1, 2, 3, 4) \n",
    "d, e, f = 4, 5, 6\n",
    "\n",
    "# Swapping variable\n",
    "e, d = d, e\n",
    "a = (1, 2, 3)\n",
    "a[:3]"
   ]
  },
  {
   "cell_type": "markdown",
   "metadata": {},
   "source": [
    "### Functions"
   ]
  },
  {
   "cell_type": "code",
   "execution_count": 27,
   "metadata": {},
   "outputs": [
    {
     "name": "stdout",
     "output_type": "stream",
     "text": [
      "negative\n",
      "zero\n",
      "positive\n"
     ]
    }
   ],
   "source": [
    "def sign(x):\n",
    "    if x > 0:\n",
    "        return 'positive'\n",
    "    elif x < 0:\n",
    "        return 'negative'\n",
    "    else:\n",
    "        return 'zero'\n",
    "\n",
    "for x in [-1, 0, 1]:\n",
    "    print(sign(x))"
   ]
  },
  {
   "cell_type": "code",
   "execution_count": 29,
   "metadata": {},
   "outputs": [
    {
     "name": "stdout",
     "output_type": "stream",
     "text": [
      "Hello, Bob!\n",
      "Hello, FRED\n"
     ]
    }
   ],
   "source": [
    "def hello(name, loud = False):\n",
    "    if loud:\n",
    "        print(\"Hello, %s\" % name.upper())\n",
    "    else:\n",
    "        print(\"Hello, %s!\" % name)\n",
    "\n",
    "hello('Bob') \n",
    "hello('Fred', loud = True)"
   ]
  },
  {
   "cell_type": "code",
   "execution_count": 30,
   "metadata": {},
   "outputs": [
    {
     "name": "stdout",
     "output_type": "stream",
     "text": [
      "x is 5 and y is 6\n"
     ]
    },
    {
     "data": {
      "text/plain": [
       "11"
      ]
     },
     "execution_count": 30,
     "metadata": {},
     "output_type": "execute_result"
    }
   ],
   "source": [
    "def add(x, y):\n",
    "    print(\"x is {} and y is {}\".format(x, y))\n",
    "    return x + y\n",
    "add(y=6, x=5)"
   ]
  },
  {
   "cell_type": "code",
   "execution_count": 31,
   "metadata": {},
   "outputs": [
    {
     "data": {
      "text/plain": [
       "(1, 2, 3)"
      ]
     },
     "execution_count": 31,
     "metadata": {},
     "output_type": "execute_result"
    }
   ],
   "source": [
    "def varargs(*args):\n",
    "    return args\n",
    "\n",
    "varargs(1, 2, 3)"
   ]
  },
  {
   "cell_type": "code",
   "execution_count": 33,
   "metadata": {},
   "outputs": [
    {
     "data": {
      "text/plain": [
       "{'big': 'foot', 'loch': 'mess', 'arm': 'armpit'}"
      ]
     },
     "execution_count": 33,
     "metadata": {},
     "output_type": "execute_result"
    }
   ],
   "source": [
    "# Unlimited arguments\n",
    "def keyword_args(**kwargs):\n",
    "    return kwargs\n",
    "\n",
    "keyword_args(big = \"foot\", loch = \"mess\", arm = \"armpit\")"
   ]
  },
  {
   "cell_type": "code",
   "execution_count": 40,
   "metadata": {},
   "outputs": [
    {
     "name": "stdout",
     "output_type": "stream",
     "text": [
      "(1, 2)\n",
      "{'a': 3, 'b': 4}\n"
     ]
    }
   ],
   "source": [
    "def all_the_args(*args, **kwargs):\n",
    "    print(args)\n",
    "    print(kwargs)\n",
    "all_the_args(1, 2, a =3, b=4)"
   ]
  },
  {
   "cell_type": "markdown",
   "metadata": {},
   "source": [
    "`*` `->` unpacking of tuple \n",
    "`**` `->` unpacking of dictionary "
   ]
  },
  {
   "cell_type": "code",
   "execution_count": 44,
   "metadata": {},
   "outputs": [],
   "source": [
    "args = (1, 2, 3, 4)\n",
    "kwargs = {\"a\": 3, \"b\": 4}"
   ]
  },
  {
   "cell_type": "code",
   "execution_count": 45,
   "metadata": {},
   "outputs": [
    {
     "name": "stdout",
     "output_type": "stream",
     "text": [
      "(1, 2, 3, 4)\n",
      "{}\n",
      "()\n",
      "{'a': 3, 'b': 4}\n",
      "(1, 2, 3, 4)\n",
      "{'a': 3, 'b': 4}\n"
     ]
    }
   ],
   "source": [
    "all_the_args(*args)\n",
    "all_the_args(**kwargs)\n",
    "all_the_args(*args, **kwargs)"
   ]
  },
  {
   "cell_type": "code",
   "execution_count": null,
   "metadata": {},
   "outputs": [],
   "source": []
  }
 ],
 "metadata": {
  "kernelspec": {
   "display_name": "base",
   "language": "python",
   "name": "python3"
  },
  "language_info": {
   "codemirror_mode": {
    "name": "ipython",
    "version": 3
   },
   "file_extension": ".py",
   "mimetype": "text/x-python",
   "name": "python",
   "nbconvert_exporter": "python",
   "pygments_lexer": "ipython3",
   "version": "3.11.4"
  }
 },
 "nbformat": 4,
 "nbformat_minor": 2
}
