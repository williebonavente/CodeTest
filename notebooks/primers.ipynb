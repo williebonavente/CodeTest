{
 "cells": [
  {
   "cell_type": "code",
   "execution_count": null,
   "metadata": {},
   "outputs": [],
   "source": [
    "import this"
   ]
  },
  {
   "cell_type": "code",
   "execution_count": null,
   "metadata": {},
   "outputs": [],
   "source": [
    "# quicksort\n",
    "\n",
    "def quicksort(arr):\n",
    "    if len(arr) <= 1:\n",
    "        return arr\n",
    "    pivot = arr[len(arr) // 2]\n",
    "    left = [x for x in arr if x < pivot]\n",
    "    middle = [x for x in arr if x == pivot]\n",
    "    right = [x for x in arr if x > pivot]\n",
    "    return quicksort(left) + middle + quicksort(right)\n",
    "\n",
    "quicksort([3, 6, 8, 10, 1, 2, 1])"
   ]
  },
  {
   "cell_type": "code",
   "execution_count": null,
   "metadata": {},
   "outputs": [],
   "source": [
    "# Creating Truth Tables\n",
    "t = True\n",
    "f = False\n",
    "p = f and t and t or t\n",
    "q = t or f and f and t\n",
    "print(p and not(q)) # contradiction\n",
    "print(not(q) or q) # tautology"
   ]
  },
  {
   "cell_type": "code",
   "execution_count": null,
   "metadata": {},
   "outputs": [],
   "source": [
    "# Returning False\n",
    "bool(0)\n",
    "bool(\"\")\n",
    "bool([])\n",
    "bool(())"
   ]
  },
  {
   "cell_type": "code",
   "execution_count": null,
   "metadata": {},
   "outputs": [],
   "source": [
    "x = int(input(\"Enter number: \"))\n",
    "if x != x:\n",
    "    print(False)\n",
    "else:\n",
    "    print(True)"
   ]
  },
  {
   "cell_type": "markdown",
   "metadata": {},
   "source": [
    "## $F$ string"
   ]
  },
  {
   "cell_type": "code",
   "execution_count": null,
   "metadata": {},
   "outputs": [],
   "source": [
    "# Dictionary f-string\n",
    "name = \"Willie\"\n",
    "print(f\"his name is {name}\")\n",
    "print(f\"{name} is {len(name)} characters long.\")"
   ]
  },
  {
   "cell_type": "code",
   "execution_count": null,
   "metadata": {},
   "outputs": [],
   "source": [
    "# Padding and aligning string\n",
    "print('{:_<10}'.format('test'))\n",
    "print('{:0<10}'.format('test'))\n",
    "print('{:^10}'.format('test')) # Return in the middle\n",
    "print('{:^6}'.format('zip')) # Returns zip"
   ]
  },
  {
   "cell_type": "code",
   "execution_count": null,
   "metadata": {},
   "outputs": [],
   "source": [
    "def binary_search(arr, x):\n",
    "    \"\"\"\n",
    "    Searches for the given value in the given array using the binary search algorithm\n",
    "\n",
    "    Args:\n",
    "        arr: The array to search in.\n",
    "        x: The value to search for.\n",
    "\n",
    "    Returns:\n",
    "        The index of the value in the array, or -1 if the value is not found.\n",
    "    \"\"\"\n",
    "    arr.sort()  # sort the array first\n",
    "\n",
    "    i = 0\n",
    "    j = len(arr) - 1\n",
    "\n",
    "    while i <= j:\n",
    "        mid = (i + j) // 2\n",
    "\n",
    "        if arr[mid] == x:\n",
    "            return mid\n",
    "\n",
    "        elif arr[mid] < x:\n",
    "            i = mid + 1\n",
    "        else:\n",
    "            j = mid - 1\n",
    "\n",
    "    return -1\n",
    "\n",
    "def main():\n",
    "    arr = [1, 5, 3, 2, 7]\n",
    "    x = 5\n",
    "    \n",
    "    location = binary_search(arr,x)\n",
    "    \n",
    "    if location != -1:\n",
    "        print(f\"The value of {x} is found at index {location}\")\n",
    "    else:\n",
    "        print(f\"The value {x} is not found\")\n",
    "        \n",
    "        \n",
    "if __name__ == \"__main__\":\n",
    "    main()\n"
   ]
  },
  {
   "cell_type": "code",
   "execution_count": null,
   "metadata": {},
   "outputs": [],
   "source": [
    "# Coordinates\n",
    "'{2:s}. {1:s},{0:s}'.format('test1', 'test2','test3')\n",
    "'{2}.{1},{0}'.format('test1', 'test2','test3') # same but shorter"
   ]
  },
  {
   "cell_type": "code",
   "execution_count": null,
   "metadata": {},
   "outputs": [],
   "source": [
    "# Formatting \n",
    "'{2}, {1}, {0}'.format(*'abc')"
   ]
  },
  {
   "cell_type": "code",
   "execution_count": null,
   "metadata": {},
   "outputs": [],
   "source": [
    "# Unpacking arguments by name\n",
    "'Coordinates: {latitude}, {longitude}'.format(latitude = '37.24N', longitude = '-115.81W')\n",
    "\n",
    "coordinate = {'latitude': '37.24N', 'longitude': '-115.81W'}\n",
    "print('Coordinates: {latitude}, {longitude}'.format(**coordinate))"
   ]
  },
  {
   "cell_type": "markdown",
   "metadata": {},
   "source": [
    "### Combining Truncating and Padding "
   ]
  },
  {
   "cell_type": "code",
   "execution_count": null,
   "metadata": {},
   "outputs": [],
   "source": [
    "# Truncating Long String \n",
    "'%.5s' % ('Willie M. Bonavente')\n",
    "'{:5}'.format('Willie M. Bonavente')"
   ]
  },
  {
   "cell_type": "code",
   "execution_count": null,
   "metadata": {},
   "outputs": [],
   "source": [
    "# Formatting Numbers\n",
    "\"%d\" % (42) # Int\n",
    "\"{:d}\".format(42)"
   ]
  },
  {
   "cell_type": "code",
   "execution_count": null,
   "metadata": {},
   "outputs": [],
   "source": [
    "\"%f\" % (3.141592653589793)\n",
    "\"{:f}\".format(3.141592653589793)\n"
   ]
  },
  {
   "cell_type": "code",
   "execution_count": null,
   "metadata": {},
   "outputs": [],
   "source": [
    "# C programming be like in python\n",
    "\n",
    "def main():\n",
    "    print(\"Hello, World\")\n",
    "    \n",
    "if __name__ == \"__main__\":\n",
    "    main()"
   ]
  },
  {
   "cell_type": "code",
   "execution_count": null,
   "metadata": {},
   "outputs": [],
   "source": [
    "# Padding Numbers\n",
    "'%4d' %(42,)"
   ]
  },
  {
   "cell_type": "code",
   "execution_count": null,
   "metadata": {},
   "outputs": [],
   "source": [
    "# Floats\n",
    "\"%06.2f\" % (3.141592653589793,)\n",
    "\"{:06.2f}\".format(3.141592653589793,)"
   ]
  },
  {
   "cell_type": "code",
   "execution_count": null,
   "metadata": {},
   "outputs": [],
   "source": [
    "\"%04d\" % (42) # Returns 0042\n",
    "\"{:04d}\".format(42)"
   ]
  },
  {
   "cell_type": "code",
   "execution_count": null,
   "metadata": {},
   "outputs": [],
   "source": [
    "# Number System\n",
    "\"int: {0:d}; hex: {0:x}; oct {0:o}; bin: {0:b}\".format(42)"
   ]
  },
  {
   "cell_type": "code",
   "execution_count": null,
   "metadata": {},
   "outputs": [],
   "source": [
    "# With 0x, 0o, or 0b\n",
    "\"int: {0:d}; hex {0:#x}; oct: {0:#o}; bin: {0:#b}\".format(42)"
   ]
  },
  {
   "cell_type": "code",
   "execution_count": null,
   "metadata": {},
   "outputs": [],
   "source": [
    "'{:,}'.format(1234567890987654321)"
   ]
  },
  {
   "cell_type": "code",
   "execution_count": null,
   "metadata": {},
   "outputs": [],
   "source": [
    "# Expressing a percentage \n",
    "points = 19\n",
    "total = 22\n",
    "print('Correct Answers: {:.2%}'.format(points/total))"
   ]
  },
  {
   "cell_type": "code",
   "execution_count": null,
   "metadata": {},
   "outputs": [],
   "source": [
    "# Using type-specific formatting \n",
    "import datetime \n",
    "d = datetime.datetime(2023, 7, 4, 12, 15, 58)\n",
    "'{:%Y-%m-%d %H:%M:%S}'.format(d)"
   ]
  },
  {
   "cell_type": "code",
   "execution_count": null,
   "metadata": {},
   "outputs": [],
   "source": [
    "# Nesting an arguments and more complex examples\n",
    "for  align, text  in zip('<>', ['left', 'center', 'right']):\n",
    "    '{0:{fill}{align}16}'.format(text, fill=align, align = align)\n",
    "    \n",
    "width = 5\n",
    "for num in range(5, 12):\n",
    "    for base in 'dXob':\n",
    "        print('{0: {width}{base}}'.format(num, base= base, width=width), end=' ')\n",
    "    print()"
   ]
  },
  {
   "cell_type": "code",
   "execution_count": null,
   "metadata": {},
   "outputs": [],
   "source": [
    "# Formatting floats\n",
    "val = 12.3\n",
    "f'{val:.2f}'\n",
    "f'{val:.5f}'"
   ]
  },
  {
   "cell_type": "code",
   "execution_count": null,
   "metadata": {},
   "outputs": [],
   "source": [
    "# Formatting width\n",
    "for x in range(1, 11):\n",
    "    print(f'{x:02} {x*x:3} {x*x*x:4} {x*x*x*x:5}')"
   ]
  },
  {
   "cell_type": "markdown",
   "metadata": {},
   "source": [
    "### Index of a Substring in Python String"
   ]
  },
  {
   "cell_type": "code",
   "execution_count": null,
   "metadata": {},
   "outputs": [],
   "source": [
    "sentence = \"Today is Saturaday\""
   ]
  },
  {
   "cell_type": "code",
   "execution_count": null,
   "metadata": {},
   "outputs": [],
   "source": [
    "print(sentence.find(\"day\"))\n",
    "print(sentence.find(\"nice\"))"
   ]
  },
  {
   "cell_type": "code",
   "execution_count": null,
   "metadata": {},
   "outputs": [],
   "source": [
    "#  Searching by index\n",
    "sentence.find(\"day\", 3)\n",
    "sentence.index(\"day\")"
   ]
  },
  {
   "cell_type": "code",
   "execution_count": null,
   "metadata": {},
   "outputs": [],
   "source": [
    "import re\n",
    "\n",
    "text = \"Today is 8/11/2023\"\n",
    "match_pattern = r\"(\\d+)/(\\d+)/(\\d+)\"\n",
    "\n",
    "print(re.sub(match_pattern, \"Friday\", text)) # Returns 'Today is Friday'\n",
    "print(re.sub(match_pattern, r\"\\3-\\1-\\2\",text)) # Returns 'Today is 2023-8-11"
   ]
  },
  {
   "cell_type": "markdown",
   "metadata": {},
   "source": [
    "### Containers"
   ]
  },
  {
   "cell_type": "code",
   "execution_count": null,
   "metadata": {},
   "outputs": [],
   "source": [
    "from collections.abc import Container, Mapping # Can also use \"from typing import Sequence\"\n",
    "isinstance(list(), Container)  # Prints True\n",
    "isinstance(tuple(), Container) # Prints True\n",
    "isinstance(set(), Container)   # Prints True\n",
    "isinstance(dict(), Container)  # Prints True\n",
    "\n",
    "# Note that the \"dict\" datatype is also a mapping datatype (along with being a container):\n",
    "isinstance(dict(), Mapping) # Prints True"
   ]
  },
  {
   "cell_type": "markdown",
   "metadata": {},
   "source": [
    "### List"
   ]
  },
  {
   "cell_type": "markdown",
   "metadata": {},
   "source": [
    "List - array in `C` programming but is resizable and can contain elements of different types"
   ]
  },
  {
   "cell_type": "code",
   "execution_count": null,
   "metadata": {},
   "outputs": [],
   "source": [
    "l = [3, 1, \"2\", \"nice\"] # Creating a list\n",
    "l[0]  # Access a list like you would an array; returns \"1\"\n",
    "l[::-1] # Reversing the order\n",
    "l, l[2]\n",
    "l[-1] \n",
    "l[3] = \"foo\" # List can contain elements in different types\n",
    "l\n",
    "l.append(\"bar\")  # Add new element to the end of the list\n",
    "l # Prints \"[3, 1, 'foo', 'bar']\"\n",
    "x = l.pop() # Removing and return the last element of the list\n",
    "print(x)\n",
    "print(l)\n",
    "print(int(l[2]) + l[0]) "
   ]
  },
  {
   "cell_type": "code",
   "execution_count": null,
   "metadata": {},
   "outputs": [],
   "source": [
    "# List be \"unpacked\" into variables\n",
    "a, b, c = [1, 2, 3] # a is now 1, b is now 2, and c is now 3\n",
    "\n",
    "# Extending the unpack\n",
    "a, *b, c = [1, 2, 3, 4] # a is now 1, b is now [2, 3] and c is now 4\n",
    "\n",
    "# Swapping\n",
    "x, y = [3, 4]\n",
    "y, x = [x, y]\n",
    "print(x, y)"
   ]
  },
  {
   "cell_type": "code",
   "execution_count": null,
   "metadata": {},
   "outputs": [],
   "source": [
    "# Iterate over a list\n",
    "animals = ['cat', 'dog', 'monkey']\n",
    "for animal in animals:\n",
    "    print(animal)"
   ]
  },
  {
   "cell_type": "code",
   "execution_count": null,
   "metadata": {},
   "outputs": [],
   "source": [
    "animals = ['cat', 'dog', 'monkey']\n",
    "for idx, animal in enumerate(animals):\n",
    "    print(\"#%d: %s\" % (idx + 1 , animal))"
   ]
  },
  {
   "cell_type": "markdown",
   "metadata": {
    "slideshow": {
     "slide_type": "slide"
    }
   },
   "source": [
    "### List Comprehension"
   ]
  },
  {
   "cell_type": "code",
   "execution_count": null,
   "metadata": {},
   "outputs": [],
   "source": [
    "# Shortcut method\n",
    "nums = [0, 1, 2, 3, 4]\n",
    "squares = []\n",
    "for x in nums:\n",
    "    if x % 2 == 0:\n",
    "        squares.append(x ** 2)\n",
    "squares\n",
    "\n",
    "for i in squares:\n",
    "    print(i)"
   ]
  },
  {
   "cell_type": "code",
   "execution_count": null,
   "metadata": {},
   "outputs": [],
   "source": [
    "nums = [0, 1, 2, 3, 4]\n",
    "base = [5, 6, 7, 8, 9]\n",
    "[x ** 2 for x in nums if x % 2 == 0] \n",
    "[i ** 3 for i in base]\n"
   ]
  },
  {
   "cell_type": "code",
   "execution_count": null,
   "metadata": {},
   "outputs": [],
   "source": [
    "nums = [0, 1, 2, 3, 4]\n",
    "\n",
    "# Create a list with x ** 2 if x is odd else 0, for each element of x\n",
    "[x ** 2 if x % 2 else 0 for x in nums]"
   ]
  },
  {
   "cell_type": "code",
   "execution_count": null,
   "metadata": {},
   "outputs": [],
   "source": [
    "# List comprehension can emulate `map` and/or `filter`\n",
    "[i + 10 for i in [1, 2, 3]]\n",
    "[x for x in [3, 4, 5, 6, 7] if x > 5]"
   ]
  },
  {
   "cell_type": "code",
   "execution_count": null,
   "metadata": {},
   "outputs": [],
   "source": [
    "# Combination of the `list` constructor, and/or `map` and/or `filter`\n",
    "list(map(lambda x: x+10, [1, 2, 3]))\n",
    "list(map(max, [1, 2, 3], [4, 2, 1]))\n",
    "list(filter(lambda x: x > 5, [3, 4, 5, 6, 7]))"
   ]
  },
  {
   "cell_type": "markdown",
   "metadata": {},
   "source": [
    "### Nested Loops"
   ]
  },
  {
   "cell_type": "code",
   "execution_count": null,
   "metadata": {},
   "outputs": [],
   "source": [
    "list1 = [1, 2, 3, 4]\n",
    "list2 = [5, 6, 7, 10]\n",
    "matrix = [list1, list2]\n",
    "flattened = []\n",
    "for row in matrix:\n",
    "    for n in row:\n",
    "        flattened.append(n)\n",
    "print(flattened)"
   ]
  },
  {
   "cell_type": "code",
   "execution_count": null,
   "metadata": {},
   "outputs": [],
   "source": [
    "# List comprehension version\n",
    "flattened = [n for row in matrix for n in row]\n",
    "flattened"
   ]
  },
  {
   "cell_type": "markdown",
   "metadata": {},
   "source": [
    "### Slicing String"
   ]
  },
  {
   "cell_type": "code",
   "execution_count": null,
   "metadata": {},
   "outputs": [],
   "source": [
    "num = list(range(5))\n",
    "nums\n",
    "nums[2:4]\n",
    "nums[2:]\n",
    "nums[:2]\n",
    "nums[:]\n",
    "nums[:-1]"
   ]
  },
  {
   "cell_type": "code",
   "execution_count": null,
   "metadata": {},
   "outputs": [],
   "source": [
    "# Case 1\n",
    "nums1 = [1, 2, 3]\n",
    "nums1[1:] = [4, 5]\n",
    "nums1\n",
    "\n",
    "# Case 2\n",
    "nums2 = nums1\n",
    "nums2[1:] = [6]\n",
    "nums2\n",
    "\n",
    "id(nums1) == id(nums2)"
   ]
  },
  {
   "cell_type": "markdown",
   "metadata": {},
   "source": [
    "### List Function"
   ]
  },
  {
   "cell_type": "code",
   "execution_count": null,
   "metadata": {},
   "outputs": [],
   "source": [
    "l = [1, 2, 3]\n",
    "l_copy = l[:]\n",
    "\n",
    "del l_copy[2]\n",
    "\n",
    "l.remove(3)\n",
    "l.insert(2, 3)\n",
    "l.index(3)\n",
    "l_copy += [3]\n",
    "l + l_copy\n",
    "l.append(l_copy)\n",
    "1 in l\n",
    "len(l)"
   ]
  },
  {
   "cell_type": "code",
   "execution_count": null,
   "metadata": {},
   "outputs": [],
   "source": [
    "# extend function\n",
    "l = [1, 2, 3]\n",
    "l += [4, 5, 6]\n",
    "\n",
    "l.extend([[7, 8, 9]])\n",
    "\n",
    "# For slicing\n",
    "l[1:] = [10]\n",
    "l"
   ]
  },
  {
   "cell_type": "code",
   "execution_count": null,
   "metadata": {},
   "outputs": [],
   "source": [
    "# Extending a list with another iterable (in this case, a list)\n",
    "l = [1, 2, 3]\n",
    "l += 4,\n",
    "l += [5, 6, 7]\n",
    "\n",
    "# For Slicing\n",
    "l[1:] = 10,\n",
    "l"
   ]
  },
  {
   "cell_type": "markdown",
   "metadata": {},
   "source": [
    "## Dictionaries"
   ]
  },
  {
   "cell_type": "code",
   "execution_count": null,
   "metadata": {},
   "outputs": [],
   "source": [
    "d = {\"one\": 1, \"two\": 2, \"three\": 3}\n",
    "d['one']\n",
    "'two' in d\n",
    "d['four'] = 4\n",
    "d['four']"
   ]
  },
  {
   "cell_type": "code",
   "execution_count": null,
   "metadata": {},
   "outputs": [],
   "source": [
    "d.get(\"four\")\n",
    "d.get(\"five\")"
   ]
  },
  {
   "cell_type": "code",
   "execution_count": null,
   "metadata": {},
   "outputs": [],
   "source": [
    "d.get(\"five\", \"N/A\") # Get an element with a default; returns \"N/A\"\n",
    "d.get(\"four\", \"N/A\") # Get an element with a default; returns 4\n"
   ]
  },
  {
   "cell_type": "code",
   "execution_count": null,
   "metadata": {},
   "outputs": [],
   "source": [
    "fruits = [\n",
    "    {\"name\": \"apple\", \"attr\": {\"color\": \"red\", \"taste\": \"sweet\"}},\n",
    "    {\"name\": \"orange\", \"attr\": {\"taste\": \"sour\"}},\n",
    "    {\"name\": \"grape\", \"attr\":{\"color\": \"purple\"}},\n",
    "    {\"name\": \"banana\"}\n",
    "]\n",
    "\n",
    "colors = [fruit[\"attr\"][\"color\"]\n",
    "          if \"attr\" in fruit and \"color\" in fruit[\"attr\"] else \"unknown\"\n",
    "        for fruit in fruits]\n",
    "\n",
    "colors"
   ]
  },
  {
   "cell_type": "code",
   "execution_count": null,
   "metadata": {},
   "outputs": [],
   "source": [
    "colors = [fruit.get(\"attr\",{}).get(\"color\", \"unknown\") for fruit in fruits] # Shorter code\n",
    "colors"
   ]
  },
  {
   "cell_type": "markdown",
   "metadata": {},
   "source": [
    "`defualtdict`"
   ]
  },
  {
   "cell_type": "code",
   "execution_count": null,
   "metadata": {},
   "outputs": [],
   "source": [
    "from collections import defaultdict\n",
    "\n",
    "# create an empty defaultdict with default value equal to []\n",
    "default_list_d  = defaultdict(list)\n",
    "default_list_d['a'].append(1) # default_list_d is now {\"a\":[1]}\n",
    "\n",
    "# create a defaultdict with default value equal to 0\n",
    "default_int_d = defaultdict(int)\n",
    "default_int_d['c'] += 1 # default_int_d is now {\"c\": 1}"
   ]
  },
  {
   "cell_type": "code",
   "execution_count": null,
   "metadata": {},
   "outputs": [],
   "source": [
    "pair_dict = defaultdict(lambda: (0, 0))\n",
    "print(pair_dict['point'] == (0, 0)) # print True"
   ]
  },
  {
   "cell_type": "code",
   "execution_count": null,
   "metadata": {},
   "outputs": [],
   "source": [
    "# Key Membership Check\n",
    "d = {\"one\": 1, \"two\": 2, \"three\": 3} # Creating dictionary with some data\n",
    "doesOneExist = \"one\" in d # Return True\n",
    "doesOneExist"
   ]
  },
  {
   "cell_type": "code",
   "execution_count": null,
   "metadata": {},
   "outputs": [],
   "source": [
    "# Iterating Over Keys\n",
    "d = {\"a\": 0, \"b\": 5, \"c\": 6, \"d\": 7, \"e\": 11, \"f\": 18}\n",
    "# iterate over each key in d\n",
    "for key in d:\n",
    "    print(d[key])"
   ]
  },
  {
   "cell_type": "code",
   "execution_count": null,
   "metadata": {},
   "outputs": [],
   "source": [
    "# `del`\n",
    "d = {\"one\": 1, \"two\": 2, \"three\": 3}\n",
    "del d[\"one\"]\n",
    "d.get(\"four\", \"N/A\")"
   ]
  },
  {
   "cell_type": "code",
   "execution_count": null,
   "metadata": {},
   "outputs": [],
   "source": [
    "# Key Datatypes\n",
    "# invalid_dict = {[1, 2, 3]: \"123\"} # unhashable \n",
    "valid_dict = {(1, 2, 3) : [1, 2, 3]}\n",
    "valid_dict"
   ]
  },
  {
   "cell_type": "code",
   "execution_count": null,
   "metadata": {},
   "outputs": [],
   "source": [
    "filled_dict = {\"one\": 1, \"two\": 2, \"three\": 3}\n",
    "list(filled_dict.keys()) "
   ]
  },
  {
   "cell_type": "code",
   "execution_count": null,
   "metadata": {},
   "outputs": [],
   "source": [
    "list(filled_dict.values())"
   ]
  },
  {
   "cell_type": "code",
   "execution_count": null,
   "metadata": {},
   "outputs": [],
   "source": [
    "# Iteration Over a Dictionary\n",
    "d = {'person': 2, 'cat': 4, 'spider': 8}\n",
    "for animal in d:\n",
    "    legs = d[animal]\n",
    "    print('A %s has %d' % (animal, legs))\n"
   ]
  },
  {
   "cell_type": "code",
   "execution_count": null,
   "metadata": {},
   "outputs": [],
   "source": [
    "# Dictionary Comprehensions\n",
    "original = {'item1': 1, 'item2': 2, \"item3\": 3}\n",
    "flipped = {}\n",
    "for key, value in original.items():\n",
    "    flipped[value] = key\n",
    "flipped"
   ]
  },
  {
   "cell_type": "code",
   "execution_count": null,
   "metadata": {},
   "outputs": [],
   "source": [
    "# Same output but shorter\n",
    "flipped = {value: key for key, value in original.items()}\n",
    "flipped"
   ]
  },
  {
   "cell_type": "code",
   "execution_count": null,
   "metadata": {},
   "outputs": [],
   "source": [
    "nums = [0, 1, 2, 3, 4]\n",
    "even_num_to_square = {x: x**2 for x in nums if x % 2 == 0}\n",
    "print(even_num_to_square)"
   ]
  },
  {
   "cell_type": "code",
   "execution_count": null,
   "metadata": {},
   "outputs": [],
   "source": [
    "{x: x**2 for x in range(5)}"
   ]
  },
  {
   "cell_type": "markdown",
   "metadata": {},
   "source": [
    "### Sets"
   ]
  },
  {
   "cell_type": "code",
   "execution_count": null,
   "metadata": {},
   "outputs": [],
   "source": [
    "animals = {'cat', 'dog'}\n",
    "'cat' in animals\n",
    "'fish' in animals\n",
    "animals.add('fish')\n",
    "len(animals)"
   ]
  },
  {
   "cell_type": "code",
   "execution_count": null,
   "metadata": {},
   "outputs": [],
   "source": [
    "animals = set()\n",
    "animals.add('fish')"
   ]
  },
  {
   "cell_type": "code",
   "execution_count": null,
   "metadata": {},
   "outputs": [],
   "source": [
    "# invalid_set = {[1], 1} # unhashable type: 'list'\n",
    "valid_set = {(1), 1}"
   ]
  },
  {
   "cell_type": "code",
   "execution_count": null,
   "metadata": {},
   "outputs": [],
   "source": [
    "s = {1, 2, 3}\n",
    "s1 = s.copy\n",
    "s1() == s"
   ]
  },
  {
   "cell_type": "markdown",
   "metadata": {},
   "source": [
    "### Set Operations"
   ]
  },
  {
   "cell_type": "code",
   "execution_count": null,
   "metadata": {},
   "outputs": [],
   "source": []
  },
  {
   "cell_type": "code",
   "execution_count": null,
   "metadata": {},
   "outputs": [],
   "source": [
    "# Do set intersection with 8\n",
    "filled_set = {1, 2, 3, 4, 5, 6, 7, 8}\n",
    "other_set = {3, 4, 5, 6}\n",
    "\n",
    "# Intersection\n",
    "filled_set & other_set \n",
    "\n",
    "# Do set Union with |\n",
    "filled_set | other_set\n",
    "\n",
    "# Do set difference with `-`\n",
    "{1, 2, 3, 4} - {2, 3, 5}\n",
    "\n",
    "# Do set symmetric difference with ^\n",
    "{1, 2, 3, 4} ^ {2, 3, 5}\n",
    "\n",
    "\n",
    "# check if the set on the left is a superset of set on the right\n",
    "{1, 2} >= {1, 2, 3}\n",
    " \n",
    "# check if the set on the left is a subset of set on the right\n",
    "{1, 2} <= {1, 2, 3}"
   ]
  },
  {
   "cell_type": "code",
   "execution_count": null,
   "metadata": {},
   "outputs": [],
   "source": [
    "# Set Comprehensions\n",
    "first_letters = set()\n",
    "words = {\"nice\", \"therefore\", \"moreover\"}\n",
    "for w in words:\n",
    "    first_letters.add(w[0])\n",
    "print(first_letters)"
   ]
  },
  {
   "cell_type": "code",
   "execution_count": null,
   "metadata": {},
   "outputs": [],
   "source": [
    "# Same output\n",
    "first_letters = {w[0] for w in words}\n",
    "first_letters"
   ]
  },
  {
   "cell_type": "code",
   "execution_count": null,
   "metadata": {},
   "outputs": [],
   "source": [
    "from math import sqrt\n",
    "nums = {int(sqrt(x)) for x  in range(101)}\n",
    "print(nums)"
   ]
  },
  {
   "cell_type": "code",
   "execution_count": null,
   "metadata": {},
   "outputs": [],
   "source": [
    "{x for x in 'abcdeef' if x not in 'abc'}"
   ]
  },
  {
   "cell_type": "markdown",
   "metadata": {},
   "source": [
    "### TUPLES"
   ]
  },
  {
   "cell_type": "code",
   "execution_count": null,
   "metadata": {},
   "outputs": [],
   "source": [
    "t = (1, 2, 3)\n",
    "t[0]"
   ]
  },
  {
   "cell_type": "code",
   "execution_count": null,
   "metadata": {},
   "outputs": [],
   "source": [
    "type((1))\n",
    "type((1, ))\n",
    "type(())\n"
   ]
  },
  {
   "cell_type": "code",
   "execution_count": null,
   "metadata": {},
   "outputs": [],
   "source": [
    "d = {(x, x + 1) : x for x in range(10)}\n",
    "t = (1, 2)\n",
    "type(t)\n",
    "d[t]\n",
    "d[(1, 2)]"
   ]
  },
  {
   "cell_type": "code",
   "execution_count": null,
   "metadata": {},
   "outputs": [],
   "source": [
    "tup = (1, 2, 3)\n",
    "len(tup)\n",
    "tup + (4, 5, 6)\n",
    "tup[:2]\n",
    "2 in tup"
   ]
  },
  {
   "cell_type": "code",
   "execution_count": null,
   "metadata": {},
   "outputs": [],
   "source": [
    "# Unpacking \n",
    "a, b, c = (1, 2, 3)\n",
    "a, *b, c = (1, 2, 3, 4) \n",
    "d, e, f = 4, 5, 6\n",
    "\n",
    "# Swapping variable\n",
    "e, d = d, e\n",
    "a = (1, 2, 3)\n",
    "a[:3]"
   ]
  },
  {
   "cell_type": "markdown",
   "metadata": {},
   "source": [
    "### Functions"
   ]
  },
  {
   "cell_type": "code",
   "execution_count": null,
   "metadata": {},
   "outputs": [],
   "source": [
    "def sign(x):\n",
    "    if x > 0:\n",
    "        return 'positive'\n",
    "    elif x < 0:\n",
    "        return 'negative'\n",
    "    else:\n",
    "        return 'zero'\n",
    "\n",
    "for x in [-1, 0, 1]:\n",
    "    print(sign(x))"
   ]
  },
  {
   "cell_type": "code",
   "execution_count": null,
   "metadata": {},
   "outputs": [],
   "source": [
    "def hello(name, loud = False):\n",
    "    if loud:\n",
    "        print(\"Hello, %s\" % name.upper())\n",
    "    else:\n",
    "        print(\"Hello, %s!\" % name)\n",
    "\n",
    "hello('Bob') \n",
    "hello('Fred', loud = True)"
   ]
  },
  {
   "cell_type": "code",
   "execution_count": null,
   "metadata": {},
   "outputs": [],
   "source": [
    "def add(x, y):\n",
    "    print(\"x is {} and y is {}\".format(x, y))\n",
    "    return x + y\n",
    "add(y=6, x=5)"
   ]
  },
  {
   "cell_type": "code",
   "execution_count": null,
   "metadata": {},
   "outputs": [],
   "source": [
    "def varargs(*args):\n",
    "    return args\n",
    "\n",
    "varargs(1, 2, 3)"
   ]
  },
  {
   "cell_type": "code",
   "execution_count": null,
   "metadata": {},
   "outputs": [],
   "source": [
    "# Unlimited arguments\n",
    "def keyword_args(**kwargs):\n",
    "    return kwargs\n",
    "\n",
    "keyword_args(big = \"foot\", loch = \"mess\", arm = \"armpit\")"
   ]
  },
  {
   "cell_type": "code",
   "execution_count": null,
   "metadata": {},
   "outputs": [],
   "source": [
    "def all_the_args(*args, **kwargs):\n",
    "    print(args)\n",
    "    print(kwargs)\n",
    "all_the_args(1, 2, a =3, b=4)"
   ]
  },
  {
   "cell_type": "markdown",
   "metadata": {},
   "source": [
    "`*` `->` unpacking of tuple \n",
    "`**` `->` unpacking of dictionary "
   ]
  },
  {
   "cell_type": "code",
   "execution_count": null,
   "metadata": {},
   "outputs": [],
   "source": [
    "args = (1, 2, 3, 4)\n",
    "kwargs = {\"a\": 3, \"b\": 4}"
   ]
  },
  {
   "cell_type": "code",
   "execution_count": null,
   "metadata": {},
   "outputs": [],
   "source": [
    "all_the_args(*args)\n",
    "all_the_args(**kwargs)\n",
    "all_the_args(*args, **kwargs)"
   ]
  },
  {
   "cell_type": "code",
   "execution_count": null,
   "metadata": {},
   "outputs": [],
   "source": [
    "def swap(x ,y):\n",
    "    return y, x # Tuples with no parenthesis\n",
    "x = 1\n",
    "y = 2\n",
    "swap(x, y)"
   ]
  },
  {
   "cell_type": "code",
   "execution_count": null,
   "metadata": {},
   "outputs": [],
   "source": [
    "def create_adder(x):\n",
    "    def adder(y):\n",
    "        return x + y\n",
    "    return adder\n",
    "\n",
    "add_10 = create_adder(10)\n",
    "add_10(3)\n",
    "add15 = create_adder(15)\n",
    "add15(15)"
   ]
  },
  {
   "cell_type": "code",
   "execution_count": null,
   "metadata": {},
   "outputs": [],
   "source": [
    "# Short circuit AND: The expression x and y first evaluate x, if x is false, its value is returned; \n",
    "# otherwise, y is evaluated and the resulting value is returned\n",
    "def short_circuit_and(a, b):\n",
    "    return a and b\n",
    "\n",
    "print(short_circuit_and(a=None, b=None)) # prints None\n",
    "print(short_circuit_and(a=None, b= 1)) # prints None\n",
    "print(short_circuit_and(a= 1, b =None)) # prints None\n",
    "print(short_circuit_and(a = 1, b= 1)) #prints 1"
   ]
  },
  {
   "cell_type": "code",
   "execution_count": null,
   "metadata": {},
   "outputs": [],
   "source": [
    "def ShortCircuit_OR(a, b):\n",
    "    return a or b\n",
    "\n",
    "print(ShortCircuit_OR(a = True, b = True)) # True\n",
    "print(ShortCircuit_OR(a = True, b =  False )) # True\n",
    "print(ShortCircuit_OR(a = False, b =  True )) # True\n",
    "print(ShortCircuit_OR(a = False, b =  False )) # False"
   ]
  },
  {
   "cell_type": "code",
   "execution_count": null,
   "metadata": {},
   "outputs": [],
   "source": [
    "def Negation(a, b):\n",
    "    return None if not a else b\n",
    "\n",
    "Negation(5, 3)"
   ]
  },
  {
   "cell_type": "markdown",
   "metadata": {},
   "source": [
    "### Nesting Functions"
   ]
  },
  {
   "cell_type": "code",
   "execution_count": null,
   "metadata": {},
   "outputs": [],
   "source": [
    "def print_msg(msg):\n",
    "    # This is outer enclosing function\n",
    "    def printer():\n",
    "        # This is the nested function\n",
    "        print(msg)\n",
    "    printer()\n",
    "#  We execute the function\n",
    "# Output: Hello\n",
    "print_msg(\"Hello\")"
   ]
  },
  {
   "cell_type": "code",
   "execution_count": null,
   "metadata": {},
   "outputs": [],
   "source": [
    "# Scope of the variables\n",
    "x= 0 # Global declaration\n",
    "def outer():\n",
    "    x = 1\n",
    "    def inner():\n",
    "        x = 2\n",
    "        print(\"inner:\", x)\n",
    "    inner()\n",
    "    print(\"outer:\",x)\n",
    "    \n",
    "outer()\n",
    "print(\"global\", x)"
   ]
  },
  {
   "cell_type": "code",
   "execution_count": null,
   "metadata": {},
   "outputs": [],
   "source": [
    "x = 0\n",
    "def outer():\n",
    "    x = 1\n",
    "    def inner():\n",
    "        global x\n",
    "        x = 2\n",
    "        print(\"inner:\",x)\n",
    "    inner()\n",
    "    print(\"outer:\", x)\n",
    "outer()\n",
    "print(\"global:\",x)"
   ]
  },
  {
   "cell_type": "code",
   "execution_count": null,
   "metadata": {},
   "outputs": [],
   "source": [
    "# Type Hinting \n",
    "def greeting(name, str) -> str:\n",
    "    return 'Hello' + name\n",
    "greeting(\" willie \", \" bonavente\")"
   ]
  },
  {
   "cell_type": "code",
   "execution_count": null,
   "metadata": {},
   "outputs": [],
   "source": [
    "# Type Aliases\n",
    "Vector = list[float]\n",
    "\n",
    "def scale(scalar: float, vector: Vector) -> Vector:\n",
    "    return [scalar * num for num in vector]\n",
    "\n",
    "# type checks; a list of floats qualifies as a Vector\n",
    "new_vector = scale(2.0, [1.0, -4.2, 5.4])\n",
    "new_vector"
   ]
  },
  {
   "cell_type": "code",
   "execution_count": null,
   "metadata": {},
   "outputs": [],
   "source": [
    "from collections.abc import Sequence \n",
    "\n",
    "ConnectionOptions = dict[str, str]\n",
    "Address = tuple[str, int]\n",
    "Sever = tuple[Address, ConnectionOptions]\n",
    "\n",
    "def broadcast_message(message: str, servers: Sequence[Server]) -> None:\n",
    "    ...\n",
    "    \n",
    "# The static type checker will treat the previous type signature as\n",
    "# being exactly equivalent to this one.\n",
    "    \n",
    "def broadcast_message(message: str,servers: Sequence[tuple[tuple[str, int], dict[str, str]]]) -> None:\n",
    "    ..."
   ]
  },
  {
   "cell_type": "code",
   "execution_count": null,
   "metadata": {},
   "outputs": [],
   "source": [
    "# `Any`\n",
    "from typing import Any\n",
    "\n",
    "a: Any = None\n",
    "a = [] # Ok\n",
    "a = 2 # OK\n",
    "\n",
    "# s: str a= '' \n",
    "s = a # OK\n",
    "\n",
    "def foo(item: Any) -> int:\n",
    "    # Type checks: 'item' could be any type ,\n",
    "    # and that type might have a 'bar' method\n",
    "    item.bar()\n",
    "    ...\n",
    "    "
   ]
  },
  {
   "cell_type": "code",
   "execution_count": null,
   "metadata": {},
   "outputs": [],
   "source": [
    "def legacy_parser(text):\n",
    "    ...\n",
    "    return data\n",
    "\n",
    "# A static type checker will treat the above \n",
    "# as having the same signature as :\n",
    "def legacy_parser(text: Any) -> Any:\n",
    "    ...\n",
    "    return data"
   ]
  },
  {
   "cell_type": "code",
   "execution_count": null,
   "metadata": {},
   "outputs": [],
   "source": [
    "# Tuples\n",
    "from typing import Tuple\n",
    "\n",
    "def example(points: Tuple[float, float]):\n",
    "    return map(do_stuff, points)"
   ]
  },
  {
   "cell_type": "code",
   "execution_count": null,
   "metadata": {},
   "outputs": [],
   "source": [
    "from typing import List\n",
    "\n",
    "def example() -> List[Dict:{str: str}]:\n",
    "    return [{\"1\":\"2\"}]"
   ]
  },
  {
   "cell_type": "code",
   "execution_count": null,
   "metadata": {},
   "outputs": [],
   "source": [
    "# Union\n",
    "# Union[Union[int, str], float] == Union[int, str, float]"
   ]
  },
  {
   "cell_type": "code",
   "execution_count": null,
   "metadata": {},
   "outputs": [],
   "source": [
    "from typing import Union\n",
    "\n",
    "def foo(bar: Union[Union[int, str],float]) -> None:\n",
    "    print(bar)\n",
    "\n",
    "foo(15)"
   ]
  },
  {
   "cell_type": "code",
   "execution_count": null,
   "metadata": {},
   "outputs": [],
   "source": [
    "from typing import Optional\n",
    "# Optional - Meaning in Libs\n",
    "def foo(arg: int = 0) -> None:\n",
    "    ..."
   ]
  },
  {
   "cell_type": "code",
   "execution_count": null,
   "metadata": {},
   "outputs": [],
   "source": [
    "def foo(arg: Optional[int] = None) -> None:\n",
    "    ..."
   ]
  },
  {
   "cell_type": "code",
   "execution_count": null,
   "metadata": {},
   "outputs": [],
   "source": [
    "from typing import Optional\n",
    "\n",
    "def test(a: Optional[dict] = None) -> None:\n",
    "    # print(a) ==> {'a': 1234}\n",
    "    # or\n",
    "    # print(a) ==> None\n",
    "    ...\n",
    "    \n",
    "def test(a: Optional[list] = None) -> None:\n",
    "    # print(a) ==> [1, 2, 3, 4, 'a', 'b']\n",
    "    # or\n",
    "    # print(a) ==> None\n",
    "    ..."
   ]
  },
  {
   "cell_type": "code",
   "execution_count": null,
   "metadata": {},
   "outputs": [],
   "source": [
    "from typing import Optional, Union\n",
    "\n",
    "def apt_function(optional_argument: Optional[Union[str, int]] = None) -> None:\n",
    "    \"\"\"\n",
    "    API FUNCTION that does blah\n",
    "    If optional_argument is given, it must be an id of type string or int.\n",
    "    \"\"\""
   ]
  },
  {
   "cell_type": "code",
   "execution_count": null,
   "metadata": {},
   "outputs": [],
   "source": [
    "from typing import Optional, Union\n",
    "\n",
    "# ID types can be strings or integers -- support both.\n",
    "IdTypes = Union[str, int]\n",
    "\n",
    "def api_function(optional_argument: Optional[IdTypes] = None) -> None:\n",
    "    \"\"\"API Function that does blah.\n",
    "\n",
    "    If optional_argument is given, it must be an id of type string or int.\n",
    "    \"\"\""
   ]
  },
  {
   "cell_type": "code",
   "execution_count": null,
   "metadata": {},
   "outputs": [],
   "source": [
    "from typing import Mapping, Optional, Sequence, Union\n",
    "\n",
    "def test(a: Optional[Mapping[str, int]] = None) -> None:\n",
    "    \"\"\"accepts an optional map with string keys and integer values\"\"\"\n",
    "    # print(a) ==> {'a': 1234}\n",
    "    # or\n",
    "    # print(a) ==> None\n",
    "    pass\n",
    "def test(a: Optional[Sequence[Union[int, str]]] = None) -> None:\n",
    "    \"\"\"accepts an optional sequence of integers and strings\"\"\"\n",
    "    # print(a) ==> [1, 2, 3, 4, 'a', 'b']\n",
    "    # or\n",
    "    # print(a) ==> None\n",
    "    pass"
   ]
  },
  {
   "cell_type": "markdown",
   "metadata": {},
   "source": [
    "### Data Structures in Python"
   ]
  },
  {
   "cell_type": "markdown",
   "metadata": {},
   "source": [
    "`list.append(x)`\n",
    "- Add an item to the end of the list. Equivalent to `a[len(a):] = [x]`. \n",
    "\n",
    "`list.extend(iterable)`\n",
    "- Extend the list by appending all the items from the iterable. Equivalent to `a[len(a):] = iterable`.\n",
    "\n",
    "`list.insert(i, x)`\n",
    "- Insert an item at a given position. The first argument is the index of the element before which to insert, so a.`insert(0, x)` inserts at the front of the list, and `a.insert(len(a), x)` is equivalent to `a.append(x).`\n",
    "  \n",
    "`list.remove(x)`\n",
    "- Remove the first item from the list whose value is equal to x. It raises a `ValueError` if there is no such item.\n",
    "\n",
    "`list.pop([i])`\n",
    "- Remove the item at the given position in the list, and return it. If no index is specified, `a.pop()` removes and returns the last item in the list. (The square brackets around the i in the method signature denote that the parameter is optional, not that you should type square brackets at that position. You will see this notation frequently in the Python Library Reference.)\n",
    "\n",
    "`list.clear()`\n",
    "Remove all items from the list. Equivalent to `del a[:]`.\n",
    "\n",
    "`list.index(x[, start[, end]])`\n",
    "- Return zero-based index in the list of the first item whose value is equal to x. Raises a `ValueError` if there is no such item.\n",
    "\n",
    "`list.count(x)`\n",
    "- Return the number of times x appears in the list.\n",
    "\n",
    "`list.sort(*, key=None, reverse = False)`\n",
    "- Sort the items of the list in place (the arguments can be used for sort customization, see `sorted()` for their explanation).\n",
    "\n",
    "`list.reverse()`\n",
    "- Reverse the elements of the list in place.\n",
    "\n",
    "`list.copy()`\n",
    "- Return a shallow copy of the list. Equivalent to a[:]. "
   ]
  },
  {
   "cell_type": "code",
   "execution_count": null,
   "metadata": {},
   "outputs": [],
   "source": [
    "# Examples \n",
    "fruits = [\"orange\", \"apple\", \"pear\", \"banana\", \"kiwi\", \"apple\", \"banana\"]\n",
    "fruits.count('apple') # 2\n",
    "fruits.count('tangerine') # 0\n",
    "fruits.index('banana') # found at 4th item - index 3\n",
    "fruits.index('banana', 4) # next to banana starting to position 4\n",
    "fruits.reverse() # a[:]\n",
    "fruits.append('grape')\n",
    "fruits.sort()\n",
    "fruits\n",
    "fruits.pop()"
   ]
  },
  {
   "cell_type": "markdown",
   "metadata": {},
   "source": [
    "### Stacks\n",
    "Last-in, first-out"
   ]
  },
  {
   "cell_type": "code",
   "execution_count": null,
   "metadata": {},
   "outputs": [],
   "source": [
    "stack = [3, 4, 5]\n",
    "stack.append(6)\n",
    "stack.append(7)\n",
    "stack\n",
    "stack.pop()\n",
    "stack\n",
    "stack.pop()\n",
    "stack.pop()\n",
    "stack"
   ]
  },
  {
   "cell_type": "markdown",
   "metadata": {},
   "source": [
    "### Queues\n",
    "first-in, first-out"
   ]
  },
  {
   "cell_type": "code",
   "execution_count": null,
   "metadata": {},
   "outputs": [],
   "source": [
    "from collections import deque\n",
    "queue = deque(['Eric', 'John', 'Michael'])\n",
    "queue.append('Terry')\n",
    "queue.append('John')\n",
    "queue.popleft()\n",
    "queue.popleft()\n",
    "queue"
   ]
  },
  {
   "cell_type": "markdown",
   "metadata": {},
   "source": [
    "## List Comprehensions\n",
    "List comprehensions provide a concise way to create lists. Common applications are to make new lists where each element is the result of some operations applied to each member of another sequence or iterable, or to create a subsequence of those elements that satisfy a certain condition."
   ]
  },
  {
   "cell_type": "code",
   "execution_count": null,
   "metadata": {},
   "outputs": [],
   "source": [
    "squares = []\n",
    "for x in range(10):\n",
    "    squares.append(x**2)\n",
    "squares"
   ]
  },
  {
   "cell_type": "code",
   "execution_count": null,
   "metadata": {},
   "outputs": [],
   "source": [
    "squares = list(map(lambda x : x**2, range(10)))\n",
    "squares"
   ]
  },
  {
   "cell_type": "code",
   "execution_count": null,
   "metadata": {},
   "outputs": [],
   "source": [
    "squares = [x ** 2 for x in range(10)]\n",
    "squares"
   ]
  },
  {
   "cell_type": "code",
   "execution_count": null,
   "metadata": {},
   "outputs": [],
   "source": [
    "[(x, y) for x in [1, 2, 3] for y in [3, 1, 4] if x != y]"
   ]
  },
  {
   "cell_type": "code",
   "execution_count": null,
   "metadata": {},
   "outputs": [],
   "source": [
    "# Multidimensional Array\n",
    "combs = []\n",
    "for x in [1, 2, 3]:\n",
    "    for y in [3, 1, 4]:\n",
    "        if x != y:\n",
    "            combs.append((x, y))\n",
    "combs"
   ]
  },
  {
   "cell_type": "code",
   "execution_count": null,
   "metadata": {},
   "outputs": [],
   "source": [
    "vec = [-4, -2, 0, 2, 4]\n",
    "# create a new list with the values doubled\n",
    "[x * 2 for x in vec]\n",
    "# filter the list to exclude the negative numbers\n",
    "[x for x in vec if x >= 0]\n",
    "# apply the function to all the elements\n",
    "[abs(x) for x in vec]\n",
    "# Call a method to each element\n",
    "freshFruit = [' banana', '  loganberry', '   passion fruit',   ]\n",
    "[weapon.strip() for weapon in freshFruit]\n",
    "# create a list of 2-tuples like (number, square)\n",
    "[(x, x ** 2) for x in range(6)]\n",
    "# flatten a list using a listcomp with two 'for'\n",
    "vec = [[1, 2, 3], [4, 5, 6], [7, 8, 9]]\n",
    "[num for elem in vec for num in elem]"
   ]
  },
  {
   "cell_type": "code",
   "execution_count": null,
   "metadata": {},
   "outputs": [],
   "source": [
    "from math import pi\n",
    "[str(round(pi, i)) for i in range(1, 6)]"
   ]
  },
  {
   "cell_type": "markdown",
   "metadata": {},
   "source": [
    "### Nested List Comprehension"
   ]
  },
  {
   "cell_type": "code",
   "execution_count": null,
   "metadata": {},
   "outputs": [],
   "source": [
    "matrix = [\n",
    "    [1,2 , 3, 4],\n",
    "    [5, 6, 7, 8],\n",
    "    [9, 10, 11, 12]\n",
    "]"
   ]
  },
  {
   "cell_type": "code",
   "execution_count": null,
   "metadata": {},
   "outputs": [],
   "source": [
    "[[row[i] for row in matrix] for i in range(4)]"
   ]
  },
  {
   "cell_type": "code",
   "execution_count": null,
   "metadata": {},
   "outputs": [],
   "source": [
    "transposed = []\n",
    "\n",
    "for i in range(4):\n",
    "    transposed.append([row[i] for row in matrix])\n",
    "\n",
    "transposed"
   ]
  },
  {
   "cell_type": "code",
   "execution_count": null,
   "metadata": {},
   "outputs": [],
   "source": [
    "# Equivalent ->\n",
    "transposed = []\n",
    "\n",
    "for i in range(4):\n",
    "    # the following 3 lines implement the nested listcomp\n",
    "    transposed_row = []\n",
    "    for row in matrix:\n",
    "        transposed_row.append(row[i])\n",
    "    transposed.append(transposed_row)\n",
    "transposed"
   ]
  },
  {
   "cell_type": "code",
   "execution_count": null,
   "metadata": {},
   "outputs": [],
   "source": [
    "# Zipping for more complex programs\n",
    "list(zip(*matrix))"
   ]
  },
  {
   "cell_type": "markdown",
   "metadata": {},
   "source": [
    "### The `del` statement\n",
    "There is a way to remove an item from a list given its index instead of its value: the del statement. This differs from the `pop()` method which returns a value. The `del` statement can also be used to remove slices from a list or clear the entire list (which we did earlier by assignment of an empty list to the slice)."
   ]
  },
  {
   "cell_type": "code",
   "execution_count": null,
   "metadata": {},
   "outputs": [],
   "source": [
    "a = [-1, 1, 66.25, 333, 1234.5]\n",
    "del a[0]\n",
    "a\n",
    "\n",
    "del a[2:4]\n",
    "a\n",
    "\n",
    "del a[:]\n",
    "a"
   ]
  },
  {
   "cell_type": "markdown",
   "metadata": {},
   "source": [
    "### Tuple and Sequences\n",
    "A tuple consists of a number of values separated by commas."
   ]
  },
  {
   "cell_type": "code",
   "execution_count": null,
   "metadata": {},
   "outputs": [],
   "source": [
    "t = 12345 , 54321, 'hello'\n",
    "t[2]\n",
    "# Tuples Nested\n",
    "u  = t, (1, 2, 3, 4, 5)\n",
    "u\n",
    "# Tuples are immutable\n",
    "# but they can contain mutable objects\n",
    "v = ([1, 2, 3], [3, 2, 1])\n",
    "v"
   ]
  },
  {
   "cell_type": "code",
   "execution_count": null,
   "metadata": {},
   "outputs": [],
   "source": [
    "empty = ()\n",
    "singleton = 'hello', # <-- note trailing comma\n",
    "len(empty)\n",
    "len(singleton)\n",
    "singleton"
   ]
  },
  {
   "cell_type": "markdown",
   "metadata": {},
   "source": [
    "### Sets\n",
    "Curly braces or the `set()` function can be used to create sets. Note: to create an empty set you have to use `set()`, not `{}`; the latter creates an empty dictionary, a data structure that we discuss in the next section."
   ]
  },
  {
   "cell_type": "code",
   "execution_count": null,
   "metadata": {},
   "outputs": [],
   "source": [
    "basket = {'apple', 'orange', 'apple', 'pear', 'orange', 'banana'}\n",
    "print(basket) # remove the duplicates\n",
    "'orange' in basket\n",
    "'crabgrass' in basket\n",
    "\n",
    "# Demonstrate set operations on unique letters from two words\n",
    "a = set('abracadabra')\n",
    "b = set('alacazam')\n",
    "a # unique letters in a\n",
    "b # unique letters in b\n",
    "# Set operations\n",
    "a - b  # difference\n",
    "a | b # union\n",
    "a & b # intersection\n",
    "a ^ b # exclusive or"
   ]
  },
  {
   "cell_type": "code",
   "execution_count": null,
   "metadata": {},
   "outputs": [],
   "source": [
    "# Applying the list comprehensions\n",
    "a = {x for x in 'abracadabra' if x not in 'abc'}\n",
    "a"
   ]
  },
  {
   "cell_type": "markdown",
   "metadata": {},
   "source": [
    "### 5.5 Dictionaries \n",
    "It is best to think of a dictionary as a set of key: value pairs, with the requirement that the keys are unique (within one dictionary). A pair of braces creates an empty dictionary: `{}`. Placing a comma-separated list of key:value pairs within the braces adds initial key:value pairs to the dictionary; this is also the way dictionaries are written on output."
   ]
  },
  {
   "cell_type": "code",
   "execution_count": null,
   "metadata": {},
   "outputs": [],
   "source": [
    "tel = {'jack': 4098, 'sape': 4139}\n",
    "tel['guido'] = 4127\n",
    "tel\n",
    "tel['jack']\n",
    "del tel['sape']\n",
    "tel['irv'] = 4127\n",
    "tel\n",
    "list(tel)\n",
    "sorted(tel)\n",
    "'guido' in tel\n",
    "'jack' not in tel"
   ]
  },
  {
   "cell_type": "markdown",
   "metadata": {},
   "source": [
    "The `dict()` constructor builds dictionaries directly from sequences of key-value pairs:"
   ]
  },
  {
   "cell_type": "code",
   "execution_count": null,
   "metadata": {},
   "outputs": [],
   "source": [
    "dict([('sape', 4139), ('guido', 4128), ('jack', 4098)])"
   ]
  },
  {
   "cell_type": "code",
   "execution_count": null,
   "metadata": {},
   "outputs": [],
   "source": [
    "{x : x**2 for x in (2, 4, 6)}"
   ]
  },
  {
   "cell_type": "code",
   "execution_count": null,
   "metadata": {},
   "outputs": [],
   "source": [
    "dict(sape = 4139, guido = 4127, jack = 4098)\n"
   ]
  },
  {
   "cell_type": "code",
   "execution_count": null,
   "metadata": {},
   "outputs": [],
   "source": []
  }
 ],
 "metadata": {
  "kernelspec": {
   "display_name": "base",
   "language": "python",
   "name": "python3"
  },
  "language_info": {
   "codemirror_mode": {
    "name": "ipython",
    "version": 3
   },
   "file_extension": ".py",
   "mimetype": "text/x-python",
   "name": "python",
   "nbconvert_exporter": "python",
   "pygments_lexer": "ipython3",
   "version": "3.11.4"
  }
 },
 "nbformat": 4,
 "nbformat_minor": 2
}
