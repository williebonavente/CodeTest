{
 "cells": [
  {
   "cell_type": "code",
   "execution_count": 1,
   "metadata": {},
   "outputs": [],
   "source": [
    "# Equation Exercise using MD RENDERING LATEX EQUATION."
   ]
  },
  {
   "cell_type": "markdown",
   "metadata": {},
   "source": [
    "## Part I\n",
    "$3 + 8$ \\\n",
    "$3 + 2$ \\\n",
    "$ 456 / 21$ \\\n",
    "$ \\frac{4^3 + 2}{2 \\times 5} - 5\\frac{1}{2}$"
   ]
  },
  {
   "cell_type": "markdown",
   "metadata": {},
   "source": [
    "### Euler's Equation Rendered in Markdown"
   ]
  },
  {
   "cell_type": "markdown",
   "metadata": {},
   "source": [
    "<!-- Euler's Equation -->\n",
    "$$\n",
    "e ^ {i\\pi} = -1\n",
    "$$"
   ]
  },
  {
   "cell_type": "markdown",
   "metadata": {},
   "source": [
    "## Part II"
   ]
  },
  {
   "cell_type": "markdown",
   "metadata": {},
   "source": [
    "$\\frac{4^3 + 2}{2 \\times 5} $ \\\n",
    "$-5 \\frac{1}{2}$ \\\n",
    "$ \\frac{df}{dx}$ \\\n",
    "$ \\int_{5}^{12} x ^ 2dx$\n",
    "$$ \\begin{pmatrix} 4 & 12 & 3 \\\\ 2 & x & i \\\\ \\end{pmatrix}$$"
   ]
  },
  {
   "cell_type": "markdown",
   "metadata": {},
   "source": []
  }
 ],
 "metadata": {
  "kernelspec": {
   "display_name": "base",
   "language": "python",
   "name": "python3"
  },
  "language_info": {
   "codemirror_mode": {
    "name": "ipython",
    "version": 3
   },
   "file_extension": ".py",
   "mimetype": "text/x-python",
   "name": "python",
   "nbconvert_exporter": "python",
   "pygments_lexer": "ipython3",
   "version": "3.11.4"
  },
  "orig_nbformat": 4
 },
 "nbformat": 4,
 "nbformat_minor": 2
}
