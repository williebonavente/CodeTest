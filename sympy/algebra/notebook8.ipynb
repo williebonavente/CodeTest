{
 "cells": [
  {
   "cell_type": "markdown",
   "metadata": {},
   "source": [
    "# CSTR System"
   ]
  },
  {
   "cell_type": "markdown",
   "metadata": {},
   "source": [
    "This notebook explores solutions to the system discussed in Seborg, Edgar, Melichamp & Doyle “Process Dynamics and Control” (3rd Ed)."
   ]
  },
  {
   "cell_type": "markdown",
   "metadata": {},
   "source": [
    "![CSTR System](./img/cstr.png)"
   ]
  },
  {
   "cell_type": "markdown",
   "metadata": {},
   "source": [
    "## Model"
   ]
  },
  {
   "cell_type": "markdown",
   "metadata": {},
   "source": [
    "$$\n",
    "\\begin{align}\n",
    "k &= k_0\\exp\\left(\\frac{-E}{RT}\\right)\\\\\n",
    "w &=q\\rho \\\\\n",
    "V\\frac{\\mathrm{d}c_A}{\\mathrm{d}t} &= q(c_{Ai} - c_A) - V k c_A \\\\\n",
    "V\\rho C\\frac{\\mathrm{d}T}{\\mathrm{d}t} &= wC(T_i - T) + (-\\Delta H_R) V k c_A + UA(T_c - T)\n",
    "\\end{align}\n",
    "$$"
   ]
  },
  {
   "cell_type": "markdown",
   "metadata": {},
   "source": [
    "EB:\n",
    "\n",
    "$$\n",
    "\\frac{dE}{dt} = E_{in} - E_{out}\n",
    "\n",
    "$$\n",
    "\n",
    "MB:\n",
    "\n",
    "$$\n",
    "\\frac{dm}{dt} = \\dot m_{in} - \\dot m_{out}\n",
    "\n",
    "$$\n",
    "\n",
    "CB:\n",
    "\n",
    "\n",
    "$$\n",
    "\n",
    "\\frac{dN_A}{dt} = N_{A,in} - N_{A, out} + N_{A, \\text{gen}} - N_{A, \\text{consumed}}\n",
    "\n",
    "$$"
   ]
  },
  {
   "cell_type": "code",
   "execution_count": 13,
   "metadata": {},
   "outputs": [],
   "source": [
    "import numpy\n",
    "import scipy, scipy.optimize, scipy.integrate\n",
    "import matplotlib.pyplot as plt\n",
    "%matplotlib inline"
   ]
  },
  {
   "cell_type": "code",
   "execution_count": 3,
   "metadata": {},
   "outputs": [],
   "source": [
    "q = 100  # L/min\n",
    "cA_i = 1  # mol/L\n",
    "T_i = 350  # K\n",
    "V = 100  # L\n",
    "rho = 1000 # g/L\n",
    "C = 0.239 # J/(g K)\n",
    "Hr = -5e4  # J/(g K)\n",
    "E_over_R = 8750  # K\n",
    "k0 = 7.2e10  # 1/min\n",
    "UA = 5e4  # J/(min K)"
   ]
  },
  {
   "cell_type": "code",
   "execution_count": 4,
   "metadata": {},
   "outputs": [],
   "source": [
    "Tc = Tc0 = 300  # K"
   ]
  },
  {
   "cell_type": "code",
   "execution_count": 5,
   "metadata": {},
   "outputs": [],
   "source": [
    "cA0 = 0.5  # mol/L\n",
    "T0 = 350  # K"
   ]
  },
  {
   "cell_type": "code",
   "execution_count": 6,
   "metadata": {},
   "outputs": [],
   "source": [
    "def intsys(t, x):\n",
    "    cA, T = x\n",
    "    k = k0*numpy.exp(-E_over_R/T)\n",
    "    w = q*rho\n",
    "    dcAdt = q*(cA_i - cA)/V - k*cA\n",
    "    dTdt = 1/(V*rho*C)*(w*C*(T_i - T) - Hr*V*k*cA + UA*(Tc - T))\n",
    "    return dcAdt, dTdt"
   ]
  },
  {
   "cell_type": "code",
   "execution_count": 7,
   "metadata": {},
   "outputs": [],
   "source": [
    "x0 = [cA0, T0]"
   ]
  },
  {
   "cell_type": "code",
   "execution_count": 8,
   "metadata": {},
   "outputs": [
    {
     "data": {
      "text/plain": [
       "(3.40208612952253e-05, -0.007117334999003795)"
      ]
     },
     "execution_count": 8,
     "metadata": {},
     "output_type": "execute_result"
    }
   ],
   "source": [
    "intsys(0, x0)"
   ]
  },
  {
   "cell_type": "code",
   "execution_count": 9,
   "metadata": {},
   "outputs": [],
   "source": [
    "tspan = (0, 10)\n",
    "t = numpy.linspace(*tspan, 1000)"
   ]
  },
  {
   "cell_type": "code",
   "execution_count": 10,
   "metadata": {},
   "outputs": [],
   "source": [
    "def simulate():\n",
    "    r = scipy.integrate.solve_ivp(intsys, tspan, x0, t_eval=t)\n",
    "    return r.y"
   ]
  },
  {
   "cell_type": "code",
   "execution_count": 11,
   "metadata": {},
   "outputs": [],
   "source": [
    "cA, T = simulate()"
   ]
  },
  {
   "cell_type": "code",
   "execution_count": 14,
   "metadata": {},
   "outputs": [
    {
     "data": {
      "image/png": "[encoded data removed]",
      "text/plain": [
       "<Figure size 640x480 with 1 Axes>"
      ]
     },
     "metadata": {},
     "output_type": "display_data"
    }
   ],
   "source": [
    "plt.plot(t, T)\n",
    "plt.show()"
   ]
  },
  {
   "cell_type": "code",
   "execution_count": null,
   "metadata": {},
   "outputs": [],
   "source": []
  }
 ],
 "metadata": {
  "kernelspec": {
   "display_name": "base",
   "language": "python",
   "name": "python3"
  },
  "language_info": {
   "codemirror_mode": {
    "name": "ipython",
    "version": 3
   },
   "file_extension": ".py",
   "mimetype": "text/x-python",
   "name": "python",
   "nbconvert_exporter": "python",
   "pygments_lexer": "ipython3",
   "version": "3.11.4"
  },
  "orig_nbformat": 4
 },
 "nbformat": 4,
 "nbformat_minor": 2
}
