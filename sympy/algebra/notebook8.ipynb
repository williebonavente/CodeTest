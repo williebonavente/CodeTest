{
 "cells": [
  {
   "cell_type": "markdown",
   "metadata": {},
   "source": [
    "# CSTR System"
   ]
  },
  {
   "cell_type": "markdown",
   "metadata": {},
   "source": [
    "This notebook explores solutions to the system discussed in Seborg, Edgar, Melichamp & Doyle “Process Dynamics and Control” (3rd Ed)."
   ]
  },
  {
   "cell_type": "markdown",
   "metadata": {},
   "source": [
    "![CSTR System](./img/cstr.png)"
   ]
  },
  {
   "cell_type": "markdown",
   "metadata": {},
   "source": [
    "## Model"
   ]
  },
  {
   "cell_type": "markdown",
   "metadata": {},
   "source": [
    "$$\n",
    "\\begin{align}\n",
    "k &= k_0\\exp\\left(\\frac{-E}{RT}\\right)\\\\\n",
    "w &=q\\rho \\\\\n",
    "V\\frac{\\mathrm{d}c_A}{\\mathrm{d}t} &= q(c_{Ai} - c_A) - V k c_A \\\\\n",
    "V\\rho C\\frac{\\mathrm{d}T}{\\mathrm{d}t} &= wC(T_i - T) + (-\\Delta H_R) V k c_A + UA(T_c - T)\n",
    "\\end{align}\n",
    "$$"
   ]
  },
  {
   "cell_type": "markdown",
   "metadata": {},
   "source": [
    "EB:\n",
    "\n",
    "$$\n",
    "\\frac{dE}{dt} = E_{in} - E_{out}\n",
    "\n",
    "$$\n",
    "\n",
    "MB:\n",
    "\n",
    "$$\n",
    "\\frac{dm}{dt} = \\dot m_{in} - \\dot m_{out}\n",
    "\n",
    "$$\n",
    "\n",
    "CB:\n",
    "\n",
    "\n",
    "$$\n",
    "\n",
    "\\frac{dN_A}{dt} = N_{A,in} - N_{A, out} + N_{A, \\text{gen}} - N_{A, \\text{consumed}}\n",
    "\n",
    "$$"
   ]
  },
  {
   "cell_type": "markdown",
   "metadata": {},
   "source": []
  }
 ],
 "metadata": {
  "kernelspec": {
   "display_name": "base",
   "language": "python",
   "name": "python3"
  },
  "language_info": {
   "name": "python",
   "version": "3.11.4"
  },
  "orig_nbformat": 4
 },
 "nbformat": 4,
 "nbformat_minor": 2
}
