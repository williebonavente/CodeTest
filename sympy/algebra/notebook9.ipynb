{
 "cells": [
  {
   "cell_type": "markdown",
   "metadata": {},
   "source": [
    "## Mixing System"
   ]
  },
  {
   "cell_type": "markdown",
   "metadata": {},
   "source": [
    "Problem statement: The figure below shows a set of well-mixed mixing tanks. All the streams contain a binary mixture of substance $X$ and substance $Y$. Steams $A$, $B$ and $C$ are fed into the system from an upstream process.\n",
    "\n",
    "Tanks $1$ and $2$ are drained by the force of gravity (assume flow is proportional to level), while the pump attached to the tank $3$ output is sized such that the level in tank $3$ does not affect the flow rate through the pump.\n",
    "\n",
    "You may assume that the valves in lines $G$, $H$, $J$ and $L$ can manipulate those flows directly.\n",
    "\n",
    "The density of substance $X$ is $ρX = 1000 kg/m3$ and the density of substance $Y$ is $ρY = 800 kg/m3.$"
   ]
  },
  {
   "cell_type": "markdown",
   "metadata": {},
   "source": [
    "![Mixing System](./img/mixing_tanks.png)"
   ]
  },
  {
   "cell_type": "markdown",
   "metadata": {},
   "source": [
    "## Steady state calculation"
   ]
  },
  {
   "cell_type": "markdown",
   "metadata": {},
   "source": [
    "Find the steady state flow rates and compositions of all the streams given that 3 * Stream A is 1m3/h of substance X * Streams B and C are both 1m3/h of substance Y. * H=G,H=2J,J=2L."
   ]
  },
  {
   "cell_type": "code",
   "execution_count": null,
   "metadata": {},
   "outputs": [],
   "source": [
    "px = 1000 # kg/me\n",
    "py = 800 # kg/m3\n",
    "\n",
    "A = 1*px\n",
    "B = 1*py\n",
    "C = 1*py"
   ]
  },
  {
   "cell_type": "code",
   "execution_count": null,
   "metadata": {},
   "outputs": [],
   "source": [
    "G = A + B + C"
   ]
  },
  {
   "cell_type": "code",
   "execution_count": null,
   "metadata": {},
   "outputs": [],
   "source": [
    "H = G\n",
    "J = H/2\n",
    "L = J / 2"
   ]
  },
  {
   "cell_type": "code",
   "execution_count": null,
   "metadata": {},
   "outputs": [],
   "source": [
    "F = G + H"
   ]
  },
  {
   "cell_type": "code",
   "execution_count": null,
   "metadata": {},
   "outputs": [],
   "source": [
    "D = A + L "
   ]
  },
  {
   "cell_type": "code",
   "execution_count": null,
   "metadata": {},
   "outputs": [],
   "source": [
    "K = J - L\n",
    "I = H - J"
   ]
  },
  {
   "cell_type": "code",
   "execution_count": null,
   "metadata": {},
   "outputs": [],
   "source": [
    "E = B + D + K"
   ]
  },
  {
   "cell_type": "code",
   "execution_count": null,
   "metadata": {},
   "outputs": [],
   "source": [
    "A, B, C, D, E, F, G, H, I, J, K, L"
   ]
  },
  {
   "cell_type": "markdown",
   "metadata": {},
   "source": [
    "## Compositions"
   ]
  },
  {
   "cell_type": "code",
   "execution_count": null,
   "metadata": {},
   "outputs": [],
   "source": [
    "xA = 1\n",
    "xB = 0\n",
    "xC = 0"
   ]
  },
  {
   "cell_type": "code",
   "execution_count": null,
   "metadata": {},
   "outputs": [],
   "source": [
    "xG = (xA * A + xB * B + xC * C) / G"
   ]
  },
  {
   "cell_type": "code",
   "execution_count": null,
   "metadata": {},
   "outputs": [],
   "source": [
    "x3 = xF = xH = xI = xJ = xK = xL = xG"
   ]
  },
  {
   "cell_type": "code",
   "execution_count": null,
   "metadata": {},
   "outputs": [],
   "source": [
    "x1 = xD = (xA*A + xL*L)/D"
   ]
  },
  {
   "cell_type": "code",
   "execution_count": null,
   "metadata": {},
   "outputs": [],
   "source": [
    "x2 = xE = (xB*B + xD*D + xK*K)/E"
   ]
  },
  {
   "cell_type": "markdown",
   "metadata": {},
   "source": [
    "## Design"
   ]
  },
  {
   "cell_type": "code",
   "execution_count": null,
   "metadata": {},
   "outputs": [],
   "source": [
    "A1 = A2 = A3 = 3"
   ]
  },
  {
   "cell_type": "code",
   "execution_count": null,
   "metadata": {},
   "outputs": [],
   "source": [
    "h1 = h2 = h3 = 1"
   ]
  },
  {
   "cell_type": "code",
   "execution_count": null,
   "metadata": {},
   "outputs": [],
   "source": [
    "k1 = D/h1"
   ]
  },
  {
   "cell_type": "code",
   "execution_count": null,
   "metadata": {},
   "outputs": [],
   "source": [
    "k2 = E/h2"
   ]
  },
  {
   "cell_type": "code",
   "execution_count": null,
   "metadata": {},
   "outputs": [],
   "source": [
    "k1, k2"
   ]
  },
  {
   "cell_type": "markdown",
   "metadata": {},
   "source": [
    "## Dynamic Simulation"
   ]
  },
  {
   "cell_type": "code",
   "execution_count": null,
   "metadata": {},
   "outputs": [],
   "source": [
    "import scipy.integrate"
   ]
  },
  {
   "cell_type": "code",
   "execution_count": null,
   "metadata": {},
   "outputs": [],
   "source": [
    "# Find volumes via tank geometry\n",
    "\n",
    "V1 = A1*h1\n",
    "V2 = A2*h2\n",
    "V3 = A3*h3"
   ]
  },
  {
   "cell_type": "code",
   "execution_count": null,
   "metadata": {},
   "outputs": [],
   "source": [
    "# Masses from volumes - assume ideal mixing\n",
    "M1 = V1/(x1/px + (1 - x1)/py)\n",
    "M2 = V2/(x2/px + (1 - x2)/py)\n",
    "M3 = V3/(x3/px + (1 - x3)/py)"
   ]
  },
  {
   "cell_type": "code",
   "execution_count": null,
   "metadata": {},
   "outputs": [],
   "source": [
    "y0 = [M1, M2, M3, M1*x1, M2*x2, M3*x3]"
   ]
  },
  {
   "cell_type": "code",
   "execution_count": null,
   "metadata": {},
   "outputs": [],
   "source": [
    "t = 0"
   ]
  },
  {
   "cell_type": "code",
   "execution_count": null,
   "metadata": {},
   "outputs": [],
   "source": [
    "def dMdt(t, y):\n",
    "    M1, M2, M3, M1x1, M2x2, M3x3 = y\n",
    "\n",
    "    if t <= 0:\n",
    "        A = 1*px\n",
    "    else:\n",
    "        A = 1.5*px\n",
    "\n",
    "    xD = x1 = M1x1/M1\n",
    "    xE = x2 = M2x2/M2\n",
    "    xF = x3 = M3x3/M3\n",
    "\n",
    "    V1 = M1*(x1/px + (1 - x1)/py)\n",
    "    V2 = M2*(x2/px + (1 - x2)/py)\n",
    "    V3 = M3*(x3/px + (1 - x3)/py)\n",
    "\n",
    "    h1 = V1/A1\n",
    "    h2 = V2/A2\n",
    "    h3 = V3/A3\n",
    "\n",
    "    xH = xI = xJ = xK = xL = xG = x3\n",
    "\n",
    "    D = k1*h1\n",
    "    E = k2*h2\n",
    "\n",
    "    dM1dt = A + L - D\n",
    "    dM2dt = B + D + K - E\n",
    "    dM3dt = C + E + I - F\n",
    "\n",
    "    dM1x1dt = xA*A + xL*L - xD*D\n",
    "    dM2x2dt = xB*B + xD*D + xK*K - xE*E\n",
    "    dM3x3dt = xC*C + xE*E + xI*I - xF*F\n",
    "\n",
    "    return dM1dt, dM2dt, dM3dt, dM1x1dt, dM2x2dt, dM3x3dt"
   ]
  },
  {
   "cell_type": "code",
   "execution_count": null,
   "metadata": {},
   "outputs": [],
   "source": [
    "dMdt(0, y0)"
   ]
  },
  {
   "cell_type": "code",
   "execution_count": null,
   "metadata": {},
   "outputs": [],
   "source": [
    "sol = scipy.integrate.solve_ivp(dMdt, (0, 10), y0)"
   ]
  },
  {
   "cell_type": "code",
   "execution_count": null,
   "metadata": {},
   "outputs": [],
   "source": [
    "sol"
   ]
  },
  {
   "cell_type": "code",
   "execution_count": null,
   "metadata": {},
   "outputs": [],
   "source": [
    "import matplotlib.pyplot as plt\n",
    "%matplotlib inline"
   ]
  },
  {
   "cell_type": "code",
   "execution_count": null,
   "metadata": {},
   "outputs": [],
   "source": [
    "M1, M2, M3, M1x1, M2x2, M3x3 = sol.y"
   ]
  },
  {
   "cell_type": "code",
   "execution_count": null,
   "metadata": {},
   "outputs": [],
   "source": [
    "x1 = M1x1/M1\n",
    "x2 = M2x2/M2\n",
    "x3 = M3x3/M3\n",
    "\n",
    "V1 = M1*(x1/px + (1 - x1)/py)\n",
    "V2 = M2*(x2/px + (1 - x2)/py)\n",
    "V3 = M3*(x3/px + (1 - x3)/py)\n",
    "\n",
    "h1 = V1/A1\n",
    "h2 = V2/A2\n",
    "h3 = V3/A3"
   ]
  },
  {
   "cell_type": "code",
   "execution_count": null,
   "metadata": {},
   "outputs": [],
   "source": [
    "plt.plot(sol.t, h1,\n",
    "         sol.t, h2,\n",
    "         sol.t, h3)\n",
    "plt.ylim(0, 2)\n",
    "plt.legend(['$h_1$', '$h_2$', '$h_3$'])"
   ]
  },
  {
   "cell_type": "code",
   "execution_count": null,
   "metadata": {},
   "outputs": [],
   "source": [
    "plt.plot(sol.t, x1,\n",
    "         sol.t, x2,\n",
    "         sol.t, x3)\n",
    "plt.legend(['$x_1$', '$x_2$', '$x_3$'])"
   ]
  }
 ],
 "metadata": {
  "kernelspec": {
   "display_name": "base",
   "language": "python",
   "name": "python3"
  },
  "language_info": {
   "codemirror_mode": {
    "name": "ipython",
    "version": 3
   },
   "file_extension": ".py",
   "mimetype": "text/x-python",
   "name": "python",
   "nbconvert_exporter": "python",
   "pygments_lexer": "ipython3",
   "version": "3.11.4"
  },
  "orig_nbformat": 4
 },
 "nbformat": 4,
 "nbformat_minor": 2
}
