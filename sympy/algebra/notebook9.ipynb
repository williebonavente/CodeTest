{
 "cells": [
  {
   "cell_type": "markdown",
   "metadata": {},
   "source": [
    "## Mixing System"
   ]
  },
  {
   "cell_type": "markdown",
   "metadata": {},
   "source": [
    "Problem statement: The figure below shows a set of well-mixed mixing tanks. All the streams contain a binary mixture of substance $X$ and substance $Y$. Steams $A$, $B$ and $C$ are fed into the system from an upstream process.\n",
    "\n",
    "Tanks $1$ and $2$ are drained by the force of gravity (assume flow is proportional to level), while the pump attached to the tank $3$ output is sized such that the level in tank $3$ does not affect the flow rate through the pump.\n",
    "\n",
    "You may assume that the valves in lines $G$, $H$, $J$ and $L$ can manipulate those flows directly.\n",
    "\n",
    "The density of substance $X$ is $ρX = 1000 kg/m3$ and the density of substance $Y$ is $ρY = 800 kg/m3.$"
   ]
  },
  {
   "cell_type": "markdown",
   "metadata": {},
   "source": [
    "![Mixing System](./img/mixing_tanks.png)"
   ]
  },
  {
   "cell_type": "markdown",
   "metadata": {},
   "source": [
    "## Steady state calculation"
   ]
  },
  {
   "cell_type": "markdown",
   "metadata": {},
   "source": [
    "Find the steady state flow rates and compositions of all the streams given that 3 * Stream A is 1m3/h of substance X * Streams B and C are both 1m3/h of substance Y. * H=G,H=2J,J=2L."
   ]
  },
  {
   "cell_type": "code",
   "execution_count": 1,
   "metadata": {},
   "outputs": [],
   "source": [
    "px = 1000 # kg/me\n",
    "py = 800 # kg/m3\n",
    "\n",
    "A = 1*px\n",
    "B = 1*py\n",
    "C = 1*py"
   ]
  },
  {
   "cell_type": "code",
   "execution_count": 2,
   "metadata": {},
   "outputs": [],
   "source": [
    "G = A + B + C"
   ]
  },
  {
   "cell_type": "code",
   "execution_count": 3,
   "metadata": {},
   "outputs": [],
   "source": [
    "H = G\n",
    "J = H/2\n",
    "L = J / 2"
   ]
  },
  {
   "cell_type": "code",
   "execution_count": 4,
   "metadata": {},
   "outputs": [],
   "source": [
    "F = G + H"
   ]
  },
  {
   "cell_type": "code",
   "execution_count": 5,
   "metadata": {},
   "outputs": [],
   "source": [
    "D = A + L "
   ]
  },
  {
   "cell_type": "code",
   "execution_count": 7,
   "metadata": {},
   "outputs": [],
   "source": [
    "K = J - L\n",
    "I = H - J"
   ]
  },
  {
   "cell_type": "code",
   "execution_count": 8,
   "metadata": {},
   "outputs": [],
   "source": [
    "E = B + D + K"
   ]
  },
  {
   "cell_type": "code",
   "execution_count": 9,
   "metadata": {},
   "outputs": [
    {
     "data": {
      "text/plain": [
       "(1000,\n",
       " 800,\n",
       " 800,\n",
       " 1650.0,\n",
       " 3100.0,\n",
       " 5200,\n",
       " 2600,\n",
       " 2600,\n",
       " 1300.0,\n",
       " 1300.0,\n",
       " 650.0,\n",
       " 650.0)"
      ]
     },
     "execution_count": 9,
     "metadata": {},
     "output_type": "execute_result"
    }
   ],
   "source": [
    "A, B, C, D, E, F, G, H, I, J, K, L"
   ]
  },
  {
   "cell_type": "markdown",
   "metadata": {},
   "source": [
    "## Compositions"
   ]
  },
  {
   "cell_type": "code",
   "execution_count": 10,
   "metadata": {},
   "outputs": [],
   "source": [
    "xA = 1\n",
    "xB = 0\n",
    "xC = 0"
   ]
  },
  {
   "cell_type": "code",
   "execution_count": 11,
   "metadata": {},
   "outputs": [],
   "source": [
    "xG = (xA * A + xB * B + xC * C) / G"
   ]
  },
  {
   "cell_type": "code",
   "execution_count": 12,
   "metadata": {},
   "outputs": [],
   "source": [
    "x3 = xF = xH = xI = xJ = xK = xL = xG"
   ]
  },
  {
   "cell_type": "code",
   "execution_count": 13,
   "metadata": {},
   "outputs": [],
   "source": [
    "x1 = xD = (xA*A + xL*L)/D"
   ]
  },
  {
   "cell_type": "code",
   "execution_count": 14,
   "metadata": {},
   "outputs": [],
   "source": [
    "x2 = xE = (xB*B + xD*D + xK*K)/E"
   ]
  },
  {
   "cell_type": "markdown",
   "metadata": {},
   "source": [
    "## Design"
   ]
  },
  {
   "cell_type": "code",
   "execution_count": 15,
   "metadata": {},
   "outputs": [],
   "source": [
    "A1 = A2 = A3 = 3"
   ]
  },
  {
   "cell_type": "code",
   "execution_count": 16,
   "metadata": {},
   "outputs": [],
   "source": [
    "h1 = h2 = h3 = 1"
   ]
  },
  {
   "cell_type": "code",
   "execution_count": 17,
   "metadata": {},
   "outputs": [],
   "source": [
    "k1 = D/h1"
   ]
  },
  {
   "cell_type": "code",
   "execution_count": 18,
   "metadata": {},
   "outputs": [],
   "source": [
    "k2 = E/h2"
   ]
  },
  {
   "cell_type": "code",
   "execution_count": 19,
   "metadata": {},
   "outputs": [
    {
     "data": {
      "text/plain": [
       "(1650.0, 3100.0)"
      ]
     },
     "execution_count": 19,
     "metadata": {},
     "output_type": "execute_result"
    }
   ],
   "source": [
    "k1, k2"
   ]
  },
  {
   "cell_type": "markdown",
   "metadata": {},
   "source": [
    "## Dynamic Simulation"
   ]
  },
  {
   "cell_type": "code",
   "execution_count": 20,
   "metadata": {},
   "outputs": [],
   "source": [
    "import scipy.integrate"
   ]
  },
  {
   "cell_type": "code",
   "execution_count": 21,
   "metadata": {},
   "outputs": [],
   "source": [
    "# Find volumes via tank geometry\n",
    "\n",
    "V1 = A1*h1\n",
    "V2 = A2*h2\n",
    "V3 = A3*h3"
   ]
  },
  {
   "cell_type": "code",
   "execution_count": 23,
   "metadata": {},
   "outputs": [],
   "source": [
    "# Masses from volumes - assume ideal mixing\n",
    "M1 = V1/(x1/px + (1 - x1)/py)\n",
    "M2 = V2/(x2/px + (1 - x2)/py)\n",
    "M3 = V3/(x3/px + (1 - x3)/py)"
   ]
  },
  {
   "cell_type": "code",
   "execution_count": 27,
   "metadata": {},
   "outputs": [],
   "source": [
    "y0 = [M1, M2, M3, M1*x1, M2*x2, M3*x3]"
   ]
  },
  {
   "cell_type": "code",
   "execution_count": 24,
   "metadata": {},
   "outputs": [],
   "source": [
    "t = 0"
   ]
  },
  {
   "cell_type": "code",
   "execution_count": 25,
   "metadata": {},
   "outputs": [],
   "source": [
    "def dMdt(t, y):\n",
    "    M1, M2, M3, M1x1, M2x2, M3x3 = y\n",
    "\n",
    "    if t <= 0:\n",
    "        A = 1*px\n",
    "    else:\n",
    "        A = 1.5*px\n",
    "\n",
    "    xD = x1 = M1x1/M1\n",
    "    xE = x2 = M2x2/M2\n",
    "    xF = x3 = M3x3/M3\n",
    "\n",
    "    V1 = M1*(x1/px + (1 - x1)/py)\n",
    "    V2 = M2*(x2/px + (1 - x2)/py)\n",
    "    V3 = M3*(x3/px + (1 - x3)/py)\n",
    "\n",
    "    h1 = V1/A1\n",
    "    h2 = V2/A2\n",
    "    h3 = V3/A3\n",
    "\n",
    "    xH = xI = xJ = xK = xL = xG = x3\n",
    "\n",
    "    D = k1*h1\n",
    "    E = k2*h2\n",
    "\n",
    "    dM1dt = A + L - D\n",
    "    dM2dt = B + D + K - E\n",
    "    dM3dt = C + E + I - F\n",
    "\n",
    "    dM1x1dt = xA*A + xL*L - xD*D\n",
    "    dM2x2dt = xB*B + xD*D + xK*K - xE*E\n",
    "    dM3x3dt = xC*C + xE*E + xI*I - xF*F\n",
    "\n",
    "    return dM1dt, dM2dt, dM3dt, dM1x1dt, dM2x2dt, dM3x3dt"
   ]
  },
  {
   "cell_type": "code",
   "execution_count": 28,
   "metadata": {},
   "outputs": [
    {
     "data": {
      "text/plain": [
       "(0.0,\n",
       " 4.547473508864641e-13,\n",
       " 0.0,\n",
       " 0.0,\n",
       " 4.547473508864641e-13,\n",
       " -4.547473508864641e-13)"
      ]
     },
     "execution_count": 28,
     "metadata": {},
     "output_type": "execute_result"
    }
   ],
   "source": [
    "dMdt(0, y0)"
   ]
  },
  {
   "cell_type": "code",
   "execution_count": 29,
   "metadata": {},
   "outputs": [],
   "source": [
    "sol = scipy.integrate.solve_ivp(dMdt, (0, 10), y0)"
   ]
  },
  {
   "cell_type": "code",
   "execution_count": 30,
   "metadata": {},
   "outputs": [
    {
     "data": {
      "text/plain": [
       "  message: The solver successfully reached the end of the integration interval.\n",
       "  success: True\n",
       "   status: 0\n",
       "        t: [ 0.000e+00  1.000e-04  9.329e-04  9.262e-03  9.256e-02\n",
       "             9.255e-01  1.863e+00  3.134e+00  4.834e+00  7.235e+00\n",
       "             9.993e+00  1.000e+01]\n",
       "        y: [[ 2.829e+03  2.829e+03 ...  3.752e+03  3.752e+03]\n",
       "            [ 2.657e+03  2.657e+03 ...  3.150e+03  3.151e+03]\n",
       "            ...\n",
       "            [ 1.286e+03  1.286e+03 ...  1.845e+03  1.845e+03]\n",
       "            [ 1.000e+03  1.000e+03 ...  2.943e+03  2.945e+03]]\n",
       "      sol: None\n",
       " t_events: None\n",
       " y_events: None\n",
       "     nfev: 68\n",
       "     njev: 0\n",
       "      nlu: 0"
      ]
     },
     "execution_count": 30,
     "metadata": {},
     "output_type": "execute_result"
    }
   ],
   "source": [
    "sol"
   ]
  },
  {
   "cell_type": "code",
   "execution_count": 31,
   "metadata": {},
   "outputs": [],
   "source": [
    "import matplotlib.pyplot as plt\n",
    "%matplotlib inline"
   ]
  },
  {
   "cell_type": "code",
   "execution_count": 32,
   "metadata": {},
   "outputs": [],
   "source": [
    "M1, M2, M3, M1x1, M2x2, M3x3 = sol.y"
   ]
  },
  {
   "cell_type": "code",
   "execution_count": 35,
   "metadata": {},
   "outputs": [],
   "source": [
    "x1 = M1x1/M1\n",
    "x2 = M2x2/M2\n",
    "x3 = M3x3/M3\n",
    "\n",
    "V1 = M1*(x1/px + (1 - x1)/py)\n",
    "V2 = M2*(x2/px + (1 - x2)/py)\n",
    "V3 = M3*(x3/px + (1 - x3)/py)\n",
    "\n",
    "h1 = V1/A1\n",
    "h2 = V2/A2\n",
    "h3 = V3/A3"
   ]
  },
  {
   "cell_type": "code",
   "execution_count": 36,
   "metadata": {},
   "outputs": [
    {
     "data": {
      "text/plain": [
       "<matplotlib.legend.Legend at 0x27d27d14390>"
      ]
     },
     "execution_count": 36,
     "metadata": {},
     "output_type": "execute_result"
    },
    {
     "data": {
      "image/png": "[encoded data removed]",
      "text/plain": [
       "<Figure size 640x480 with 1 Axes>"
      ]
     },
     "metadata": {},
     "output_type": "display_data"
    }
   ],
   "source": [
    "plt.plot(sol.t, h1,\n",
    "         sol.t, h2,\n",
    "         sol.t, h3)\n",
    "plt.ylim(0, 2)\n",
    "plt.legend(['$h_1$', '$h_2$', '$h_3$'])"
   ]
  },
  {
   "cell_type": "code",
   "execution_count": 37,
   "metadata": {},
   "outputs": [
    {
     "data": {
      "text/plain": [
       "<matplotlib.legend.Legend at 0x27d27c84390>"
      ]
     },
     "execution_count": 37,
     "metadata": {},
     "output_type": "execute_result"
    },
    {
     "data": {
      "image/png": "[encoded data removed]",
      "text/plain": [
       "<Figure size 640x480 with 1 Axes>"
      ]
     },
     "metadata": {},
     "output_type": "display_data"
    }
   ],
   "source": [
    "plt.plot(sol.t, x1,\n",
    "         sol.t, x2,\n",
    "         sol.t, x3)\n",
    "plt.legend(['$x_1$', '$x_2$', '$x_3$'])"
   ]
  }
 ],
 "metadata": {
  "kernelspec": {
   "display_name": "base",
   "language": "python",
   "name": "python3"
  },
  "language_info": {
   "codemirror_mode": {
    "name": "ipython",
    "version": 3
   },
   "file_extension": ".py",
   "mimetype": "text/x-python",
   "name": "python",
   "nbconvert_exporter": "python",
   "pygments_lexer": "ipython3",
   "version": "3.11.4"
  },
  "orig_nbformat": 4
 },
 "nbformat": 4,
 "nbformat_minor": 2
}
