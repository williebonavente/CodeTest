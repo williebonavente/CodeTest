{
 "cells": [
  {
   "cell_type": "markdown",
   "metadata": {},
   "source": [
    "## Mixing System"
   ]
  },
  {
   "cell_type": "markdown",
   "metadata": {},
   "source": [
    "Problem statement: The figure below shows a set of well-mixed mixing tanks. All the streams contain a binary mixture of substance $X$ and substance $Y$. Steams $A$, $B$ and $C$ are fed into the system from an upstream process.\n",
    "\n",
    "Tanks $1$ and $2$ are drained by the force of gravity (assume flow is proportional to level), while the pump attached to the tank $3$ output is sized such that the level in tank $3$ does not affect the flow rate through the pump.\n",
    "\n",
    "You may assume that the valves in lines $G$, $H$, $J$ and $L$ can manipulate those flows directly.\n",
    "\n",
    "The density of substance $X$ is $ρX = 1000 kg/m3$ and the density of substance $Y$ is $ρY = 800 kg/m3.$"
   ]
  },
  {
   "cell_type": "markdown",
   "metadata": {},
   "source": [
    "![Mixing System](./img/tanksystem.png)"
   ]
  },
  {
   "cell_type": "markdown",
   "metadata": {},
   "source": [
    "<!-- Continue for chapter 15 -->"
   ]
  }
 ],
 "metadata": {
  "language_info": {
   "name": "python"
  },
  "orig_nbformat": 4
 },
 "nbformat": 4,
 "nbformat_minor": 2
}
