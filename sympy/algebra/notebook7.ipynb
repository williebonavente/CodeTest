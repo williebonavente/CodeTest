{
 "cells": [
  {
   "cell_type": "markdown",
   "metadata": {},
   "source": [
    "# Fed Batch Bioreactor"
   ]
  },
  {
   "cell_type": "markdown",
   "metadata": {},
   "source": [
    "This model represents the fed batch bioreactor in section 2.4.9 of Seborg et al."
   ]
  },
  {
   "cell_type": "markdown",
   "metadata": {},
   "source": [
    "![Table Batch Bioreactor](./img/tableOfBioreactor.png)"
   ]
  },
  {
   "cell_type": "markdown",
   "metadata": {},
   "source": [
    "## Model equations:"
   ]
  },
  {
   "cell_type": "code",
   "execution_count": null,
   "metadata": {},
   "outputs": [],
   "source": [
    "# Parameters\n",
    "mu_max = 0.2 # Maximum growth rate\n",
    "K_s = 1.0 # Monod Constant\n",
    "Y_xs = 0.5 # Cell yield coefficient\n",
    "Y_px = 0.2 # Product yield coefficient"
   ]
  },
  {
   "cell_type": "code",
   "execution_count": null,
   "metadata": {},
   "outputs": [],
   "source": [
    "# States\n",
    "X = 0.05 # Concentration of the cells\n",
    "S = 10 # Concentration of the substrate\n",
    "P = 0 # Concentration of the product\n",
    "V = 1\n",
    "\n",
    "x0 = [X, S, P, V] # State Vector "
   ]
  },
  {
   "cell_type": "code",
   "execution_count": null,
   "metadata": {},
   "outputs": [],
   "source": [
    "F = 0.05 # Feed rate\n",
    "S_f = 10 # Concentration of substrate in feed"
   ]
  },
  {
   "cell_type": "code",
   "execution_count": null,
   "metadata": {},
   "outputs": [],
   "source": [
    "def dxdt(t, x):\n",
    "    [X, S, P, V] = x\n",
    "    \n",
    "    mu = mu_max * S / (K_s + S)\n",
    "    rg  = mu * X\n",
    "    rp = Y_px * rg\n",
    "    dVdt = F\n",
    "    dXdt = 1/V*(V * rg - dVdt *X)\n",
    "    dPdt = 1/V*(V * rp - dVdt * P)\n",
    "    dSdt = 1/V*(F * S_f - 1 / Y_xs * rg - dVdt * S)\n",
    "    \n",
    "    return [dXdt, dSdt, dPdt, dVdt]"
   ]
  },
  {
   "cell_type": "code",
   "execution_count": null,
   "metadata": {},
   "outputs": [],
   "source": [
    "import scipy.integrate\n",
    "import numpy"
   ]
  },
  {
   "cell_type": "code",
   "execution_count": null,
   "metadata": {},
   "outputs": [],
   "source": [
    "import matplotlib.pyplot as plt\n",
    "%matplotlib inline"
   ]
  },
  {
   "cell_type": "code",
   "execution_count": null,
   "metadata": {},
   "outputs": [],
   "source": [
    "tspan = [0, 30]"
   ]
  },
  {
   "cell_type": "code",
   "execution_count": null,
   "metadata": {},
   "outputs": [],
   "source": [
    "tsmooth = numpy.linspace(0, 30)"
   ]
  },
  {
   "cell_type": "code",
   "execution_count": null,
   "metadata": {},
   "outputs": [],
   "source": [
    "Fs = [0.05, 0.02]"
   ]
  },
  {
   "cell_type": "code",
   "execution_count": null,
   "metadata": {},
   "outputs": [],
   "source": [
    "results = []"
   ]
  },
  {
   "cell_type": "code",
   "execution_count": null,
   "metadata": {},
   "outputs": [],
   "source": [
    "for F in Fs:\n",
    "    out = scipy.integrate.solve_ivp(dxdt, tspan, x0, t_eval=tsmooth)\n",
    "    results.append(out)"
   ]
  },
  {
   "cell_type": "code",
   "execution_count": null,
   "metadata": {},
   "outputs": [],
   "source": [
    "# Define the names of your variables\n",
    "names = ['X', 'P', 'S', 'V']\n",
    "units = {'X': 'g/L', 'P': 'g/L', 'S': 'g/L', 'V': 'L'}\n",
    "ax = {}\n",
    "\n",
    "fig, [[ax['X'], ax['P']], [ax['S'], ax['V']]] = plt.subplots(2, 2)\n",
    "\n",
    "for F, out in zip(Fs, results):\n",
    "    var = {name: y for name, y in zip(names, out.y)}\n",
    "    for name in names:\n",
    "        ax[name].plot(out.t, var[name])\n",
    "        ax[name].set_ylabel(f'{name} ({units[name]})')\n",
    "        ax[name].set_xlabel('Time (hr)')\n",
    "plt.tight_layout()"
   ]
  },
  {
   "cell_type": "code",
   "execution_count": null,
   "metadata": {},
   "outputs": [],
   "source": []
  }
 ],
 "metadata": {
  "kernelspec": {
   "display_name": "base",
   "language": "python",
   "name": "python3"
  },
  "language_info": {
   "codemirror_mode": {
    "name": "ipython",
    "version": 3
   },
   "file_extension": ".py",
   "mimetype": "text/x-python",
   "name": "python",
   "nbconvert_exporter": "python",
   "pygments_lexer": "ipython3",
   "version": "3.11.4"
  },
  "orig_nbformat": 4
 },
 "nbformat": 4,
 "nbformat_minor": 2
}
