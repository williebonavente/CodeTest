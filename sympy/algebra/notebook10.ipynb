{
 "cells": [
  {
   "cell_type": "code",
   "execution_count": 1,
   "metadata": {},
   "outputs": [],
   "source": [
    "import sympy\n",
    "sympy.init_printing()"
   ]
  },
  {
   "cell_type": "markdown",
   "metadata": {},
   "source": [
    "# Valve equation"
   ]
  },
  {
   "cell_type": "markdown",
   "metadata": {},
   "source": [
    "Let’s linearise the nasty nonlinear term in the equation percentage valve relationship in T4 Problem 4 (or T2 problem 4)"
   ]
  },
  {
   "cell_type": "markdown",
   "metadata": {},
   "source": [
    "$$F = \\underbrace{C_v \\alpha^{x - 1}}_{\\text{nonlinear}}$$"
   ]
  },
  {
   "cell_type": "markdown",
   "metadata": {},
   "source": [
    "First we introduce the requisite symbols. Notice that we specify constraints on these variables, this will make simplifications better later on."
   ]
  },
  {
   "cell_type": "code",
   "execution_count": 2,
   "metadata": {},
   "outputs": [],
   "source": [
    "C_v, alpha, x = sympy.symbols('C_v, alpha, x', positive=True)"
   ]
  },
  {
   "cell_type": "code",
   "execution_count": 3,
   "metadata": {},
   "outputs": [],
   "source": [
    "term = C_v*alpha**(x - 1)"
   ]
  },
  {
   "cell_type": "code",
   "execution_count": 4,
   "metadata": {},
   "outputs": [],
   "source": [
    "xbar = sympy.symbols('xbar', positive=True)"
   ]
  },
  {
   "cell_type": "code",
   "execution_count": 5,
   "metadata": {},
   "outputs": [
    {
     "name": "stdout",
     "output_type": "stream",
     "text": [
      "\u001b[1;31mSignature:\u001b[0m \u001b[0msympy\u001b[0m\u001b[1;33m.\u001b[0m\u001b[0mseries\u001b[0m\u001b[1;33m(\u001b[0m\u001b[0mexpr\u001b[0m\u001b[1;33m,\u001b[0m \u001b[0mx\u001b[0m\u001b[1;33m=\u001b[0m\u001b[1;32mNone\u001b[0m\u001b[1;33m,\u001b[0m \u001b[0mx0\u001b[0m\u001b[1;33m=\u001b[0m\u001b[1;36m0\u001b[0m\u001b[1;33m,\u001b[0m \u001b[0mn\u001b[0m\u001b[1;33m=\u001b[0m\u001b[1;36m6\u001b[0m\u001b[1;33m,\u001b[0m \u001b[0mdir\u001b[0m\u001b[1;33m=\u001b[0m\u001b[1;34m'+'\u001b[0m\u001b[1;33m)\u001b[0m\u001b[1;33m\u001b[0m\u001b[1;33m\u001b[0m\u001b[0m\n",
      "\u001b[1;31mDocstring:\u001b[0m\n",
      "Series expansion of expr around point `x = x0`.\n",
      "\n",
      "Parameters\n",
      "==========\n",
      "\n",
      "expr : Expression\n",
      "       The expression whose series is to be expanded.\n",
      "\n",
      "x : Symbol\n",
      "    It is the variable of the expression to be calculated.\n",
      "\n",
      "x0 : Value\n",
      "     The value around which ``x`` is calculated. Can be any value\n",
      "     from ``-oo`` to ``oo``.\n",
      "\n",
      "n : Value\n",
      "    The number of terms upto which the series is to be expanded.\n",
      "\n",
      "dir : String, optional\n",
      "      The series-expansion can be bi-directional. If ``dir=\"+\"``,\n",
      "      then (x->x0+). If ``dir=\"-\", then (x->x0-). For infinite\n",
      "      ``x0`` (``oo`` or ``-oo``), the ``dir`` argument is determined\n",
      "      from the direction of the infinity (i.e., ``dir=\"-\"`` for\n",
      "      ``oo``).\n",
      "\n",
      "Examples\n",
      "========\n",
      "\n",
      ">>> from sympy import series, tan, oo\n",
      ">>> from sympy.abc import x\n",
      ">>> f = tan(x)\n",
      ">>> series(f, x, 2, 6, \"+\")\n",
      "tan(2) + (1 + tan(2)**2)*(x - 2) + (x - 2)**2*(tan(2)**3 + tan(2)) +\n",
      "(x - 2)**3*(1/3 + 4*tan(2)**2/3 + tan(2)**4) + (x - 2)**4*(tan(2)**5 +\n",
      "5*tan(2)**3/3 + 2*tan(2)/3) + (x - 2)**5*(2/15 + 17*tan(2)**2/15 +\n",
      "2*tan(2)**4 + tan(2)**6) + O((x - 2)**6, (x, 2))\n",
      "\n",
      ">>> series(f, x, 2, 3, \"-\")\n",
      "tan(2) + (2 - x)*(-tan(2)**2 - 1) + (2 - x)**2*(tan(2)**3 + tan(2))\n",
      "+ O((x - 2)**3, (x, 2))\n",
      "\n",
      ">>> series(f, x, 2, oo, \"+\")\n",
      "Traceback (most recent call last):\n",
      "...\n",
      "TypeError: 'Infinity' object cannot be interpreted as an integer\n",
      "\n",
      "Returns\n",
      "=======\n",
      "\n",
      "Expr\n",
      "    Series expansion of the expression about x0\n",
      "\n",
      "See Also\n",
      "========\n",
      "\n",
      "sympy.core.expr.Expr.series: See the docstring of Expr.series() for complete details of this wrapper.\n",
      "\u001b[1;31mFile:\u001b[0m      e:\\program_files\\anaconda\\lib\\site-packages\\sympy\\series\\series.py\n",
      "\u001b[1;31mType:\u001b[0m      function"
     ]
    }
   ],
   "source": [
    "sympy.series?"
   ]
  },
  {
   "cell_type": "code",
   "execution_count": 6,
   "metadata": {},
   "outputs": [
    {
     "name": "stdout",
     "output_type": "stream",
     "text": [
      "\u001b[1;31mSignature:\u001b[0m \u001b[0msympy\u001b[0m\u001b[1;33m.\u001b[0m\u001b[0mExpr\u001b[0m\u001b[1;33m.\u001b[0m\u001b[0mseries\u001b[0m\u001b[1;33m(\u001b[0m\u001b[0mself\u001b[0m\u001b[1;33m,\u001b[0m \u001b[0mx\u001b[0m\u001b[1;33m=\u001b[0m\u001b[1;32mNone\u001b[0m\u001b[1;33m,\u001b[0m \u001b[0mx0\u001b[0m\u001b[1;33m=\u001b[0m\u001b[1;36m0\u001b[0m\u001b[1;33m,\u001b[0m \u001b[0mn\u001b[0m\u001b[1;33m=\u001b[0m\u001b[1;36m6\u001b[0m\u001b[1;33m,\u001b[0m \u001b[0mdir\u001b[0m\u001b[1;33m=\u001b[0m\u001b[1;34m'+'\u001b[0m\u001b[1;33m,\u001b[0m \u001b[0mlogx\u001b[0m\u001b[1;33m=\u001b[0m\u001b[1;32mNone\u001b[0m\u001b[1;33m,\u001b[0m \u001b[0mcdir\u001b[0m\u001b[1;33m=\u001b[0m\u001b[1;36m0\u001b[0m\u001b[1;33m)\u001b[0m\u001b[1;33m\u001b[0m\u001b[1;33m\u001b[0m\u001b[0m\n",
      "\u001b[1;31mDocstring:\u001b[0m\n",
      "Series expansion of \"self\" around ``x = x0`` yielding either terms of\n",
      "the series one by one (the lazy series given when n=None), else\n",
      "all the terms at once when n != None.\n",
      "\n",
      "Returns the series expansion of \"self\" around the point ``x = x0``\n",
      "with respect to ``x`` up to ``O((x - x0)**n, x, x0)`` (default n is 6).\n",
      "\n",
      "If ``x=None`` and ``self`` is univariate, the univariate symbol will\n",
      "be supplied, otherwise an error will be raised.\n",
      "\n",
      "Parameters\n",
      "==========\n",
      "\n",
      "expr : Expression\n",
      "       The expression whose series is to be expanded.\n",
      "\n",
      "x : Symbol\n",
      "    It is the variable of the expression to be calculated.\n",
      "\n",
      "x0 : Value\n",
      "     The value around which ``x`` is calculated. Can be any value\n",
      "     from ``-oo`` to ``oo``.\n",
      "\n",
      "n : Value\n",
      "    The value used to represent the order in terms of ``x**n``,\n",
      "    up to which the series is to be expanded.\n",
      "\n",
      "dir : String, optional\n",
      "      The series-expansion can be bi-directional. If ``dir=\"+\"``,\n",
      "      then (x->x0+). If ``dir=\"-\", then (x->x0-). For infinite\n",
      "      ``x0`` (``oo`` or ``-oo``), the ``dir`` argument is determined\n",
      "      from the direction of the infinity (i.e., ``dir=\"-\"`` for\n",
      "      ``oo``).\n",
      "\n",
      "logx : optional\n",
      "       It is used to replace any log(x) in the returned series with a\n",
      "       symbolic value rather than evaluating the actual value.\n",
      "\n",
      "cdir : optional\n",
      "       It stands for complex direction, and indicates the direction\n",
      "       from which the expansion needs to be evaluated.\n",
      "\n",
      "Examples\n",
      "========\n",
      "\n",
      ">>> from sympy import cos, exp, tan\n",
      ">>> from sympy.abc import x, y\n",
      ">>> cos(x).series()\n",
      "1 - x**2/2 + x**4/24 + O(x**6)\n",
      ">>> cos(x).series(n=4)\n",
      "1 - x**2/2 + O(x**4)\n",
      ">>> cos(x).series(x, x0=1, n=2)\n",
      "cos(1) - (x - 1)*sin(1) + O((x - 1)**2, (x, 1))\n",
      ">>> e = cos(x + exp(y))\n",
      ">>> e.series(y, n=2)\n",
      "cos(x + 1) - y*sin(x + 1) + O(y**2)\n",
      ">>> e.series(x, n=2)\n",
      "cos(exp(y)) - x*sin(exp(y)) + O(x**2)\n",
      "\n",
      "If ``n=None`` then a generator of the series terms will be returned.\n",
      "\n",
      ">>> term=cos(x).series(n=None)\n",
      ">>> [next(term) for i in range(2)]\n",
      "[1, -x**2/2]\n",
      "\n",
      "For ``dir=+`` (default) the series is calculated from the right and\n",
      "for ``dir=-`` the series from the left. For smooth functions this\n",
      "flag will not alter the results.\n",
      "\n",
      ">>> abs(x).series(dir=\"+\")\n",
      "x\n",
      ">>> abs(x).series(dir=\"-\")\n",
      "-x\n",
      ">>> f = tan(x)\n",
      ">>> f.series(x, 2, 6, \"+\")\n",
      "tan(2) + (1 + tan(2)**2)*(x - 2) + (x - 2)**2*(tan(2)**3 + tan(2)) +\n",
      "(x - 2)**3*(1/3 + 4*tan(2)**2/3 + tan(2)**4) + (x - 2)**4*(tan(2)**5 +\n",
      "5*tan(2)**3/3 + 2*tan(2)/3) + (x - 2)**5*(2/15 + 17*tan(2)**2/15 +\n",
      "2*tan(2)**4 + tan(2)**6) + O((x - 2)**6, (x, 2))\n",
      "\n",
      ">>> f.series(x, 2, 3, \"-\")\n",
      "tan(2) + (2 - x)*(-tan(2)**2 - 1) + (2 - x)**2*(tan(2)**3 + tan(2))\n",
      "+ O((x - 2)**3, (x, 2))\n",
      "\n",
      "For rational expressions this method may return original expression without the Order term.\n",
      ">>> (1/x).series(x, n=8)\n",
      "1/x\n",
      "\n",
      "Returns\n",
      "=======\n",
      "\n",
      "Expr : Expression\n",
      "    Series expansion of the expression about x0\n",
      "\n",
      "Raises\n",
      "======\n",
      "\n",
      "TypeError\n",
      "    If \"n\" and \"x0\" are infinity objects\n",
      "\n",
      "PoleError\n",
      "    If \"x0\" is an infinity object\n",
      "\u001b[1;31mFile:\u001b[0m      e:\\program_files\\anaconda\\lib\\site-packages\\sympy\\core\\expr.py\n",
      "\u001b[1;31mType:\u001b[0m      function"
     ]
    }
   ],
   "source": [
    "sympy.Expr.series?"
   ]
  },
  {
   "cell_type": "code",
   "execution_count": 7,
   "metadata": {},
   "outputs": [
    {
     "data": {
      "image/png": "[encoded data removed]",
      "text/latex": [
       "$\\displaystyle \\frac{C_{v} e^{\\bar{x} \\log{\\left(\\alpha \\right)}}}{\\alpha} + \\frac{C_{v} \\left(x - \\bar{x}\\right) e^{\\bar{x} \\log{\\left(\\alpha \\right)}} \\log{\\left(\\alpha \\right)}}{\\alpha} + O\\left(\\left(x - \\bar{x}\\right)^{2}; x\\rightarrow \\bar{x}\\right)$"
      ],
      "text/plain": [
       "    x̅⋅log(α)               x̅⋅log(α)                            \n",
       "Cᵥ⋅ℯ           Cᵥ⋅(x - x̅)⋅ℯ        ⋅log(α)    ⎛       2       ⎞\n",
       "──────────── + ─────────────────────────── + O⎝(x - x̅) ; x → x̅⎠\n",
       "     α                      α                                  "
      ]
     },
     "execution_count": 7,
     "metadata": {},
     "output_type": "execute_result"
    }
   ],
   "source": [
    "sympy.series(term, x, xbar, 2)"
   ]
  },
  {
   "cell_type": "code",
   "execution_count": 9,
   "metadata": {},
   "outputs": [
    {
     "data": {
      "image/png": "[encoded data removed]",
      "text/latex": [
       "$\\displaystyle \\frac{C_{v} \\left(x - \\bar{x}\\right) e^{\\bar{x} \\log{\\left(\\alpha \\right)}} \\log{\\left(\\alpha \\right)}}{\\alpha} + \\frac{C_{v} e^{\\bar{x} \\log{\\left(\\alpha \\right)}}}{\\alpha}$"
      ],
      "text/plain": [
       "            x̅⋅log(α)              x̅⋅log(α)\n",
       "Cᵥ⋅(x - x̅)⋅ℯ        ⋅log(α)   Cᵥ⋅ℯ        \n",
       "─────────────────────────── + ────────────\n",
       "             α                     α      "
      ]
     },
     "execution_count": 9,
     "metadata": {},
     "output_type": "execute_result"
    }
   ],
   "source": [
    "lineq = sympy.series(term, x, xbar, 2).removeO()\n",
    "lineq"
   ]
  },
  {
   "cell_type": "markdown",
   "metadata": {},
   "source": [
    "## Rewriting in terms of devation variables"
   ]
  },
  {
   "cell_type": "code",
   "execution_count": 10,
   "metadata": {},
   "outputs": [],
   "source": [
    "xprime = sympy.symbols(\"x'\", positive=True)"
   ]
  },
  {
   "cell_type": "code",
   "execution_count": 11,
   "metadata": {},
   "outputs": [
    {
     "data": {
      "image/png": "[encoded data removed]",
      "text/latex": [
       "$\\displaystyle \\frac{C_{v} x' e^{\\bar{x} \\log{\\left(\\alpha \\right)}} \\log{\\left(\\alpha \\right)}}{\\alpha} + \\frac{C_{v} e^{\\bar{x} \\log{\\left(\\alpha \\right)}}}{\\alpha}$"
      ],
      "text/plain": [
       "       x̅⋅log(α)              x̅⋅log(α)\n",
       "Cᵥ⋅x'⋅ℯ        ⋅log(α)   Cᵥ⋅ℯ        \n",
       "────────────────────── + ────────────\n",
       "          α                   α      "
      ]
     },
     "execution_count": 11,
     "metadata": {},
     "output_type": "execute_result"
    }
   ],
   "source": [
    "lineq_deviation = lineq.subs({x: xprime + xbar})\n",
    "lineq_deviation"
   ]
  }
 ],
 "metadata": {
  "kernelspec": {
   "display_name": "base",
   "language": "python",
   "name": "python3"
  },
  "language_info": {
   "codemirror_mode": {
    "name": "ipython",
    "version": 3
   },
   "file_extension": ".py",
   "mimetype": "text/x-python",
   "name": "python",
   "nbconvert_exporter": "python",
   "pygments_lexer": "ipython3",
   "version": "3.11.4"
  },
  "orig_nbformat": 4
 },
 "nbformat": 4,
 "nbformat_minor": 2
}
