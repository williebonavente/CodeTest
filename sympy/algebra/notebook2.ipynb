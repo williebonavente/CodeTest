{
 "cells": [
  {
   "cell_type": "markdown",
   "metadata": {},
   "source": [
    "# Jupyter Notebook Cheat Sheet"
   ]
  },
  {
   "cell_type": "code",
   "execution_count": 1,
   "metadata": {},
   "outputs": [],
   "source": [
    "import tbcontrol\n",
    "tbcontrol.expectversion('0.1.2')"
   ]
  },
  {
   "cell_type": "code",
   "execution_count": 22,
   "metadata": {},
   "outputs": [],
   "source": [
    "import numpy as np\n",
    "import scipy"
   ]
  },
  {
   "cell_type": "code",
   "execution_count": null,
   "metadata": {},
   "outputs": [],
   "source": [
    "# Numerics\n",
    "a = np.array([1, 2, 3])\n",
    "t = np.linspace(0, 10)\n",
    "a.any() \n",
    "t.any()"
   ]
  },
  {
   "cell_type": "code",
   "execution_count": null,
   "metadata": {},
   "outputs": [],
   "source": [
    "# displaying as tuple\n",
    "a, t"
   ]
  },
  {
   "cell_type": "code",
   "execution_count": 3,
   "metadata": {},
   "outputs": [],
   "source": [
    "# Basic Plotting function\n",
    "import matplotlib.pyplot as plt\n",
    "%matplotlib inline"
   ]
  },
  {
   "cell_type": "code",
   "execution_count": null,
   "metadata": {},
   "outputs": [],
   "source": [
    "plotfuncs = [plt.plot,\n",
    "             plt.stem,\n",
    "             plt.scatter,\n",
    "             plt.semilogx,\n",
    "             plt.semilogy,\n",
    "             plt.loglog]\n",
    "\n",
    "for i, func in enumerate(plotfuncs , 1):\n",
    "    plt.subplot(2, 3, i)\n",
    "    func([1, 2, 3], [2, 1, 2])\n",
    "    plt.title(func.__name__)\n",
    "plt.tight_layout()"
   ]
  },
  {
   "cell_type": "code",
   "execution_count": 6,
   "metadata": {},
   "outputs": [],
   "source": [
    "import sympy\n",
    "sympy.init_printing()"
   ]
  },
  {
   "cell_type": "code",
   "execution_count": null,
   "metadata": {},
   "outputs": [],
   "source": [
    "s = sympy.Symbol('s')  # A single symbol\n",
    "tau, K_c = sympy.symbols('tau K_c', positive=True) # we can use real=True or complex=True for other kinds of variables"
   ]
  },
  {
   "cell_type": "code",
   "execution_count": null,
   "metadata": {},
   "outputs": [],
   "source": [
    "Gc = K_c * ((tau*s + 1) / (tau*s))\n",
    "GvGpGm = 5 / ((10*s + 1) ** 2)"
   ]
  },
  {
   "cell_type": "code",
   "execution_count": null,
   "metadata": {},
   "outputs": [],
   "source": [
    "#  Working with rational functions and polynomials\n",
    "chareq = GvGpGm * Gc + 1\n",
    "chareq"
   ]
  },
  {
   "cell_type": "code",
   "execution_count": null,
   "metadata": {},
   "outputs": [],
   "source": [
    "# cancel() function forces this to be a fraction. collect collect terms.\n",
    "chareq = chareq.cancel().collect(s)\n",
    "chareq"
   ]
  },
  {
   "cell_type": "code",
   "execution_count": null,
   "metadata": {},
   "outputs": [],
   "source": [
    "# Factoring\n",
    "chareq.factor(s)"
   ]
  },
  {
   "cell_type": "code",
   "execution_count": null,
   "metadata": {},
   "outputs": [],
   "source": [
    "# Obtaining the numerator and denominator\n",
    "sympy.numer(chareq), sympy.denom(chareq)"
   ]
  },
  {
   "cell_type": "code",
   "execution_count": null,
   "metadata": {},
   "outputs": [],
   "source": [
    "chareq.as_numer_denom()"
   ]
  },
  {
   "cell_type": "code",
   "execution_count": null,
   "metadata": {},
   "outputs": [],
   "source": [
    "numer = sympy.poly(sympy.numer(chareq), s)"
   ]
  },
  {
   "cell_type": "code",
   "execution_count": null,
   "metadata": {},
   "outputs": [],
   "source": [
    "numer.all_coeffs()"
   ]
  },
  {
   "cell_type": "code",
   "execution_count": 5,
   "metadata": {},
   "outputs": [],
   "source": [
    "from tbcontrol.symbolic import routh"
   ]
  },
  {
   "cell_type": "code",
   "execution_count": null,
   "metadata": {},
   "outputs": [],
   "source": [
    "routh(numer)"
   ]
  },
  {
   "cell_type": "code",
   "execution_count": null,
   "metadata": {},
   "outputs": [],
   "source": [
    "f = sympy.lambdify((K_c, tau), K_c + tau)"
   ]
  },
  {
   "cell_type": "code",
   "execution_count": null,
   "metadata": {},
   "outputs": [],
   "source": [
    "f(1, 2)"
   ]
  },
  {
   "cell_type": "markdown",
   "metadata": {},
   "source": [
    "## Functions useful for discrete systems"
   ]
  },
  {
   "cell_type": "code",
   "execution_count": 8,
   "metadata": {},
   "outputs": [],
   "source": [
    "z, q = sympy.symbols('z, q')"
   ]
  },
  {
   "cell_type": "code",
   "execution_count": 10,
   "metadata": {},
   "outputs": [
    {
     "data": {
      "image/png": "[encoded data removed]",
      "text/latex": [
       "$\\displaystyle \\frac{1}{z \\left(1 - \\frac{1}{z}\\right)}$"
      ],
      "text/plain": [
       "    1    \n",
       "─────────\n",
       "  ⎛    1⎞\n",
       "z⋅⎜1 - ─⎟\n",
       "  ⎝    z⎠"
      ]
     },
     "execution_count": 10,
     "metadata": {},
     "output_type": "execute_result"
    }
   ],
   "source": [
    "Gz = z**-1/(1 - z**-1)\n",
    "Gz"
   ]
  },
  {
   "cell_type": "code",
   "execution_count": 11,
   "metadata": {},
   "outputs": [
    {
     "data": {
      "image/png": "[encoded data removed]",
      "text/latex": [
       "$\\displaystyle \\frac{1}{z - 1}$"
      ],
      "text/plain": [
       "  1  \n",
       "─────\n",
       "z - 1"
      ]
     },
     "execution_count": 11,
     "metadata": {},
     "output_type": "execute_result"
    }
   ],
   "source": [
    "Gz.cancel()"
   ]
  },
  {
   "cell_type": "code",
   "execution_count": 12,
   "metadata": {},
   "outputs": [
    {
     "data": {
      "image/png": "[encoded data removed]",
      "text/latex": [
       "$\\displaystyle \\frac{1}{q - 1}$"
      ],
      "text/plain": [
       "  1  \n",
       "─────\n",
       "q - 1"
      ]
     },
     "execution_count": 12,
     "metadata": {},
     "output_type": "execute_result"
    }
   ],
   "source": [
    "Gz.subs({z: q**1}).cancel()"
   ]
  },
  {
   "cell_type": "code",
   "execution_count": 13,
   "metadata": {},
   "outputs": [],
   "source": [
    "from tbcontrol.symbolic import sampledvalues"
   ]
  },
  {
   "cell_type": "code",
   "execution_count": 14,
   "metadata": {},
   "outputs": [
    {
     "data": {
      "image/png": "[encoded data removed]",
      "text/latex": [
       "$\\displaystyle \\left[ 0, \\  1, \\  1, \\  1, \\  1, \\  1, \\  1, \\  1, \\  1, \\  1\\right]$"
      ],
      "text/plain": [
       "[0, 1, 1, 1, 1, 1, 1, 1, 1, 1]"
      ]
     },
     "execution_count": 14,
     "metadata": {},
     "output_type": "execute_result"
    }
   ],
   "source": [
    "sampledvalues(Gz, z, 10)"
   ]
  },
  {
   "cell_type": "markdown",
   "metadata": {},
   "source": [
    "##  Equation Solving"
   ]
  },
  {
   "cell_type": "code",
   "execution_count": 16,
   "metadata": {},
   "outputs": [
    {
     "data": {
      "image/png": "[encoded data removed]",
      "text/latex": [
       "$\\displaystyle \\left\\{ x : - a, \\  y : a + 2, \\  z : -2\\right\\}$"
      ],
      "text/plain": [
       "{x: -a, y: a + 2, z: -2}"
      ]
     },
     "execution_count": 16,
     "metadata": {},
     "output_type": "execute_result"
    }
   ],
   "source": [
    "x, y, z, a= sympy.symbols('x, y, z, a')\n",
    "residuals = [x + y - 2, y + z - a, x + y + z]\n",
    "unknowns = [x, y, z]\n",
    "sympy.solve(residuals, unknowns)"
   ]
  },
  {
   "cell_type": "markdown",
   "metadata": {},
   "source": [
    "## Numeric Sympy"
   ]
  },
  {
   "cell_type": "code",
   "execution_count": 17,
   "metadata": {},
   "outputs": [
    {
     "data": {
      "image/png": "[encoded data removed]",
      "text/latex": [
       "$\\displaystyle \\left[\\begin{matrix}-2.21910714891375\\\\2.21910714891375\\end{matrix}\\right]$"
      ],
      "text/plain": [
       "⎡-2.21910714891375⎤\n",
       "⎢                 ⎥\n",
       "⎣2.21910714891375 ⎦"
      ]
     },
     "execution_count": 17,
     "metadata": {},
     "output_type": "execute_result"
    }
   ],
   "source": [
    "residuals = [2*x**2 - 2*y**2, sympy.sin(x) + sympy.log(y)]\n",
    "unknowns = [x, y]\n",
    "sympy.nsolve(residuals, unknowns, [1, 3])"
   ]
  },
  {
   "cell_type": "markdown",
   "metadata": {},
   "source": [
    "### Numeric"
   ]
  },
  {
   "cell_type": "code",
   "execution_count": 18,
   "metadata": {},
   "outputs": [],
   "source": [
    "import scipy.optimize"
   ]
  },
  {
   "cell_type": "code",
   "execution_count": 26,
   "metadata": {},
   "outputs": [],
   "source": [
    "def residuals(unknowns):\n",
    "    x, y = unknowns\n",
    "    return [2 * x**2 - 2*y**2, np.sin(x) + np.log(y)]"
   ]
  },
  {
   "cell_type": "code",
   "execution_count": 27,
   "metadata": {},
   "outputs": [],
   "source": [
    "starting_point = [1, 3]"
   ]
  },
  {
   "cell_type": "code",
   "execution_count": 28,
   "metadata": {},
   "outputs": [
    {
     "data": {
      "image/png": "[encoded data removed]",
      "text/latex": [
       "$\\displaystyle \\left[ -16, \\  1.94008327347601\\right]$"
      ],
      "text/plain": [
       "[-16, 1.9400832734760063]"
      ]
     },
     "execution_count": 28,
     "metadata": {},
     "output_type": "execute_result"
    }
   ],
   "source": [
    "residuals(starting_point)"
   ]
  },
  {
   "cell_type": "code",
   "execution_count": 29,
   "metadata": {},
   "outputs": [
    {
     "data": {
      "text/plain": [
       "array([-2.21910715,  2.21910715])"
      ]
     },
     "execution_count": 29,
     "metadata": {},
     "output_type": "execute_result"
    }
   ],
   "source": [
    "scipy.optimize.fsolve(residuals, starting_point)"
   ]
  },
  {
   "cell_type": "markdown",
   "metadata": {},
   "source": [
    "## Matrix Symbol"
   ]
  },
  {
   "cell_type": "markdown",
   "metadata": {},
   "source": [
    "### Symbolic"
   ]
  },
  {
   "cell_type": "code",
   "execution_count": 30,
   "metadata": {},
   "outputs": [],
   "source": [
    "G11, G12, G21, G22 = sympy.symbols('611, 612, 621., 622')"
   ]
  },
  {
   "cell_type": "code",
   "execution_count": 35,
   "metadata": {},
   "outputs": [
    {
     "data": {
      "image/png": "[encoded data removed]",
      "text/latex": [
       "$\\displaystyle \\left[\\begin{matrix}611 & 612\\\\621 & 622\\end{matrix}\\right]$"
      ],
      "text/plain": [
       "⎡611  612⎤\n",
       "⎢        ⎥\n",
       "⎣621  622⎦"
      ]
     },
     "execution_count": 35,
     "metadata": {},
     "output_type": "execute_result"
    }
   ],
   "source": [
    "G = sympy.Matrix([[611, 612,], [621, 622]])\n",
    "G"
   ]
  },
  {
   "cell_type": "code",
   "execution_count": 36,
   "metadata": {},
   "outputs": [
    {
     "data": {
      "image/png": "[encoded data removed]",
      "text/latex": [
       "$\\displaystyle \\left( -10, \\  \\left[\\begin{matrix}- \\frac{311}{5} & \\frac{306}{5}\\\\\\frac{621}{10} & - \\frac{611}{10}\\end{matrix}\\right], \\  \\left[\\begin{matrix}611 & 621\\\\612 & 622\\end{matrix}\\right]\\right)$"
      ],
      "text/plain": [
       "⎛     ⎡-311/5  306/5⎤            ⎞\n",
       "⎜     ⎢             ⎥  ⎡611  621⎤⎟\n",
       "⎜-10, ⎢ 621    -611 ⎥, ⎢        ⎥⎟\n",
       "⎜     ⎢ ───    ─────⎥  ⎣612  622⎦⎟\n",
       "⎝     ⎣  10      10 ⎦            ⎠"
      ]
     },
     "execution_count": 36,
     "metadata": {},
     "output_type": "execute_result"
    }
   ],
   "source": [
    "# Determinant, Inverse, Transpose\n",
    "G.det(), G.inv(), G.T"
   ]
  },
  {
   "cell_type": "code",
   "execution_count": 37,
   "metadata": {},
   "outputs": [
    {
     "data": {
      "image/png": "[encoded data removed]",
      "text/latex": [
       "$\\displaystyle \\left( \\left[\\begin{matrix}753373 & 754596\\\\765693 & 766936\\end{matrix}\\right], \\  \\left[\\begin{matrix}1222 & 1224\\\\1242 & 1244\\end{matrix}\\right], \\  \\left[\\begin{matrix}373321 & 374544\\\\385641 & 386884\\end{matrix}\\right]\\right)$"
      ],
      "text/plain": [
       "⎛⎡753373  754596⎤  ⎡1222  1224⎤  ⎡373321  374544⎤⎞\n",
       "⎜⎢              ⎥, ⎢          ⎥, ⎢              ⎥⎟\n",
       "⎝⎣765693  766936⎦  ⎣1242  1244⎦  ⎣385641  386884⎦⎠"
      ]
     },
     "execution_count": 37,
     "metadata": {},
     "output_type": "execute_result"
    }
   ],
   "source": [
    "G*G, G+G, G.multiply_elementwise(G)"
   ]
  }
 ],
 "metadata": {
  "kernelspec": {
   "display_name": "base",
   "language": "python",
   "name": "python3"
  },
  "language_info": {
   "codemirror_mode": {
    "name": "ipython",
    "version": 3
   },
   "file_extension": ".py",
   "mimetype": "text/x-python",
   "name": "python",
   "nbconvert_exporter": "python",
   "pygments_lexer": "ipython3",
   "version": "3.11.4"
  },
  "orig_nbformat": 4
 },
 "nbformat": 4,
 "nbformat_minor": 2
}
